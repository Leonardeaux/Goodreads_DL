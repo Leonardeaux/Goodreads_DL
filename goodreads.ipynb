{
 "cells": [
  {
   "cell_type": "code",
   "execution_count": 1,
   "metadata": {
    "collapsed": true
   },
   "outputs": [],
   "source": [
    "import matplotlib.pyplot as plt\n",
    "import os\n",
    "import re\n",
    "import string\n",
    "import tensorflow as tf\n",
    "import pandas as pd\n",
    "\n",
    "from utils import predicted_test_data_to_result_csv\n",
    "from tensorflow.keras import layers\n",
    "from tensorflow.keras import losses"
   ]
  },
  {
   "cell_type": "code",
   "execution_count": 2,
   "outputs": [],
   "source": [
    "os.environ['TF_CPP_MIN_LOG_LEVEL'] = '3'"
   ],
   "metadata": {
    "collapsed": false
   }
  },
  {
   "cell_type": "code",
   "execution_count": 3,
   "outputs": [
    {
     "name": "stdout",
     "output_type": "stream",
     "text": [
      "2.10.0\n",
      "[PhysicalDevice(name='/physical_device:GPU:0', device_type='GPU')]\n"
     ]
    }
   ],
   "source": [
    "# print(os.environ['LD_LIBRARY_PATH'])\n",
    "print(tf.__version__)\n",
    "print(tf.config.list_physical_devices('GPU'))"
   ],
   "metadata": {
    "collapsed": false
   }
  },
  {
   "cell_type": "code",
   "execution_count": 4,
   "outputs": [
    {
     "data": {
      "text/plain": "                            user_id   book_id  \\\n0  8842281e1d1347389f2ab93d60773d4d  18245960   \n1  8842281e1d1347389f2ab93d60773d4d     16981   \n2  8842281e1d1347389f2ab93d60773d4d  28684704   \n3  8842281e1d1347389f2ab93d60773d4d  27161156   \n4  8842281e1d1347389f2ab93d60773d4d  25884323   \n\n                          review_id  rating  \\\n0  dfdbb7b0eb5a7e4c26d59a937e2e5feb       5   \n1  a5d2c3628987712d0e05c4f90798eb67       3   \n2  2ede853b14dc4583f96cf5d120af636f       3   \n3  ced5675e55cd9d38a524743f5c40996e       0   \n4  332732725863131279a8e345b63ac33e       4   \n\n                                         review_text  \\\n0  This is a special book. It started slow for ab...   \n1  Recommended by Don Katz. Avail for free in Dec...   \n2  A fun, fast paced science fiction thriller. I ...   \n3  Recommended reading to understand what is goin...   \n4  I really enjoyed this book, and there is a lot...   \n\n                       date_added                    date_updated  \\\n0  Sun Jul 30 07:44:10 -0700 2017  Wed Aug 30 00:00:26 -0700 2017   \n1  Mon Dec 05 10:46:44 -0800 2016  Wed Mar 22 11:37:04 -0700 2017   \n2  Tue Nov 15 11:29:22 -0800 2016  Mon Mar 20 23:40:27 -0700 2017   \n3  Wed Nov 09 17:37:04 -0800 2016  Wed Nov 09 17:38:20 -0800 2016   \n4  Mon Apr 25 09:31:23 -0700 2016  Mon Apr 25 09:31:23 -0700 2016   \n\n                          read_at                      started_at  n_votes  \\\n0  Sat Aug 26 12:05:52 -0700 2017  Tue Aug 15 13:23:18 -0700 2017       28   \n1                             NaN                             NaN        1   \n2  Sat Mar 18 23:22:42 -0700 2017  Fri Mar 17 23:45:40 -0700 2017       22   \n3                             NaN                             NaN        5   \n4  Sun Jun 26 00:00:00 -0700 2016  Sat May 28 00:00:00 -0700 2016        9   \n\n   n_comments  \n0           1  \n1           0  \n2           0  \n3           1  \n4           1  ",
      "text/html": "<div>\n<style scoped>\n    .dataframe tbody tr th:only-of-type {\n        vertical-align: middle;\n    }\n\n    .dataframe tbody tr th {\n        vertical-align: top;\n    }\n\n    .dataframe thead th {\n        text-align: right;\n    }\n</style>\n<table border=\"1\" class=\"dataframe\">\n  <thead>\n    <tr style=\"text-align: right;\">\n      <th></th>\n      <th>user_id</th>\n      <th>book_id</th>\n      <th>review_id</th>\n      <th>rating</th>\n      <th>review_text</th>\n      <th>date_added</th>\n      <th>date_updated</th>\n      <th>read_at</th>\n      <th>started_at</th>\n      <th>n_votes</th>\n      <th>n_comments</th>\n    </tr>\n  </thead>\n  <tbody>\n    <tr>\n      <th>0</th>\n      <td>8842281e1d1347389f2ab93d60773d4d</td>\n      <td>18245960</td>\n      <td>dfdbb7b0eb5a7e4c26d59a937e2e5feb</td>\n      <td>5</td>\n      <td>This is a special book. It started slow for ab...</td>\n      <td>Sun Jul 30 07:44:10 -0700 2017</td>\n      <td>Wed Aug 30 00:00:26 -0700 2017</td>\n      <td>Sat Aug 26 12:05:52 -0700 2017</td>\n      <td>Tue Aug 15 13:23:18 -0700 2017</td>\n      <td>28</td>\n      <td>1</td>\n    </tr>\n    <tr>\n      <th>1</th>\n      <td>8842281e1d1347389f2ab93d60773d4d</td>\n      <td>16981</td>\n      <td>a5d2c3628987712d0e05c4f90798eb67</td>\n      <td>3</td>\n      <td>Recommended by Don Katz. Avail for free in Dec...</td>\n      <td>Mon Dec 05 10:46:44 -0800 2016</td>\n      <td>Wed Mar 22 11:37:04 -0700 2017</td>\n      <td>NaN</td>\n      <td>NaN</td>\n      <td>1</td>\n      <td>0</td>\n    </tr>\n    <tr>\n      <th>2</th>\n      <td>8842281e1d1347389f2ab93d60773d4d</td>\n      <td>28684704</td>\n      <td>2ede853b14dc4583f96cf5d120af636f</td>\n      <td>3</td>\n      <td>A fun, fast paced science fiction thriller. I ...</td>\n      <td>Tue Nov 15 11:29:22 -0800 2016</td>\n      <td>Mon Mar 20 23:40:27 -0700 2017</td>\n      <td>Sat Mar 18 23:22:42 -0700 2017</td>\n      <td>Fri Mar 17 23:45:40 -0700 2017</td>\n      <td>22</td>\n      <td>0</td>\n    </tr>\n    <tr>\n      <th>3</th>\n      <td>8842281e1d1347389f2ab93d60773d4d</td>\n      <td>27161156</td>\n      <td>ced5675e55cd9d38a524743f5c40996e</td>\n      <td>0</td>\n      <td>Recommended reading to understand what is goin...</td>\n      <td>Wed Nov 09 17:37:04 -0800 2016</td>\n      <td>Wed Nov 09 17:38:20 -0800 2016</td>\n      <td>NaN</td>\n      <td>NaN</td>\n      <td>5</td>\n      <td>1</td>\n    </tr>\n    <tr>\n      <th>4</th>\n      <td>8842281e1d1347389f2ab93d60773d4d</td>\n      <td>25884323</td>\n      <td>332732725863131279a8e345b63ac33e</td>\n      <td>4</td>\n      <td>I really enjoyed this book, and there is a lot...</td>\n      <td>Mon Apr 25 09:31:23 -0700 2016</td>\n      <td>Mon Apr 25 09:31:23 -0700 2016</td>\n      <td>Sun Jun 26 00:00:00 -0700 2016</td>\n      <td>Sat May 28 00:00:00 -0700 2016</td>\n      <td>9</td>\n      <td>1</td>\n    </tr>\n  </tbody>\n</table>\n</div>"
     },
     "execution_count": 4,
     "metadata": {},
     "output_type": "execute_result"
    }
   ],
   "source": [
    "df_train = pd.read_csv(\"data/base/goodreads_train.csv\", sep=\",\")\n",
    "df_train.head()"
   ],
   "metadata": {
    "collapsed": false
   }
  },
  {
   "cell_type": "code",
   "execution_count": 5,
   "outputs": [
    {
     "data": {
      "text/plain": "                            user_id   book_id  \\\n0  8842281e1d1347389f2ab93d60773d4d  18245960   \n1  8842281e1d1347389f2ab93d60773d4d     16981   \n2  8842281e1d1347389f2ab93d60773d4d  28684704   \n3  8842281e1d1347389f2ab93d60773d4d  25884323   \n4  8842281e1d1347389f2ab93d60773d4d  19398490   \n\n                          review_id  rating  \\\n0  dfdbb7b0eb5a7e4c26d59a937e2e5feb       5   \n1  a5d2c3628987712d0e05c4f90798eb67       3   \n2  2ede853b14dc4583f96cf5d120af636f       3   \n3  332732725863131279a8e345b63ac33e       4   \n4  ea4a220b10e6b5c796dae0e3b970aff1       4   \n\n                                         review_text  \\\n0  This is a special book. It started slow for ab...   \n1  Recommended by Don Katz. Avail for free in Dec...   \n2  A fun, fast paced science fiction thriller. I ...   \n3  I really enjoyed this book, and there is a lot...   \n4  A beautiful story. It is rare to encounter a b...   \n\n                       date_added                    date_updated  \\\n0  Sun Jul 30 07:44:10 -0700 2017  Wed Aug 30 00:00:26 -0700 2017   \n1  Mon Dec 05 10:46:44 -0800 2016  Wed Mar 22 11:37:04 -0700 2017   \n2  Tue Nov 15 11:29:22 -0800 2016  Mon Mar 20 23:40:27 -0700 2017   \n3  Mon Apr 25 09:31:23 -0700 2016  Mon Apr 25 09:31:23 -0700 2016   \n4  Sun Jan 03 21:20:46 -0800 2016  Tue Sep 20 23:30:15 -0700 2016   \n\n                          read_at                      started_at  n_votes  \\\n0  Sat Aug 26 12:05:52 -0700 2017  Tue Aug 15 13:23:18 -0700 2017       28   \n1                             NaN                             NaN        1   \n2  Sat Mar 18 23:22:42 -0700 2017  Fri Mar 17 23:45:40 -0700 2017       22   \n3  Sun Jun 26 00:00:00 -0700 2016  Sat May 28 00:00:00 -0700 2016        9   \n4  Tue Sep 13 11:51:51 -0700 2016  Sat Aug 20 07:03:03 -0700 2016       35   \n\n   n_comments  \n0           1  \n1           0  \n2           0  \n3           1  \n4           5  ",
      "text/html": "<div>\n<style scoped>\n    .dataframe tbody tr th:only-of-type {\n        vertical-align: middle;\n    }\n\n    .dataframe tbody tr th {\n        vertical-align: top;\n    }\n\n    .dataframe thead th {\n        text-align: right;\n    }\n</style>\n<table border=\"1\" class=\"dataframe\">\n  <thead>\n    <tr style=\"text-align: right;\">\n      <th></th>\n      <th>user_id</th>\n      <th>book_id</th>\n      <th>review_id</th>\n      <th>rating</th>\n      <th>review_text</th>\n      <th>date_added</th>\n      <th>date_updated</th>\n      <th>read_at</th>\n      <th>started_at</th>\n      <th>n_votes</th>\n      <th>n_comments</th>\n    </tr>\n  </thead>\n  <tbody>\n    <tr>\n      <th>0</th>\n      <td>8842281e1d1347389f2ab93d60773d4d</td>\n      <td>18245960</td>\n      <td>dfdbb7b0eb5a7e4c26d59a937e2e5feb</td>\n      <td>5</td>\n      <td>This is a special book. It started slow for ab...</td>\n      <td>Sun Jul 30 07:44:10 -0700 2017</td>\n      <td>Wed Aug 30 00:00:26 -0700 2017</td>\n      <td>Sat Aug 26 12:05:52 -0700 2017</td>\n      <td>Tue Aug 15 13:23:18 -0700 2017</td>\n      <td>28</td>\n      <td>1</td>\n    </tr>\n    <tr>\n      <th>1</th>\n      <td>8842281e1d1347389f2ab93d60773d4d</td>\n      <td>16981</td>\n      <td>a5d2c3628987712d0e05c4f90798eb67</td>\n      <td>3</td>\n      <td>Recommended by Don Katz. Avail for free in Dec...</td>\n      <td>Mon Dec 05 10:46:44 -0800 2016</td>\n      <td>Wed Mar 22 11:37:04 -0700 2017</td>\n      <td>NaN</td>\n      <td>NaN</td>\n      <td>1</td>\n      <td>0</td>\n    </tr>\n    <tr>\n      <th>2</th>\n      <td>8842281e1d1347389f2ab93d60773d4d</td>\n      <td>28684704</td>\n      <td>2ede853b14dc4583f96cf5d120af636f</td>\n      <td>3</td>\n      <td>A fun, fast paced science fiction thriller. I ...</td>\n      <td>Tue Nov 15 11:29:22 -0800 2016</td>\n      <td>Mon Mar 20 23:40:27 -0700 2017</td>\n      <td>Sat Mar 18 23:22:42 -0700 2017</td>\n      <td>Fri Mar 17 23:45:40 -0700 2017</td>\n      <td>22</td>\n      <td>0</td>\n    </tr>\n    <tr>\n      <th>3</th>\n      <td>8842281e1d1347389f2ab93d60773d4d</td>\n      <td>25884323</td>\n      <td>332732725863131279a8e345b63ac33e</td>\n      <td>4</td>\n      <td>I really enjoyed this book, and there is a lot...</td>\n      <td>Mon Apr 25 09:31:23 -0700 2016</td>\n      <td>Mon Apr 25 09:31:23 -0700 2016</td>\n      <td>Sun Jun 26 00:00:00 -0700 2016</td>\n      <td>Sat May 28 00:00:00 -0700 2016</td>\n      <td>9</td>\n      <td>1</td>\n    </tr>\n    <tr>\n      <th>4</th>\n      <td>8842281e1d1347389f2ab93d60773d4d</td>\n      <td>19398490</td>\n      <td>ea4a220b10e6b5c796dae0e3b970aff1</td>\n      <td>4</td>\n      <td>A beautiful story. It is rare to encounter a b...</td>\n      <td>Sun Jan 03 21:20:46 -0800 2016</td>\n      <td>Tue Sep 20 23:30:15 -0700 2016</td>\n      <td>Tue Sep 13 11:51:51 -0700 2016</td>\n      <td>Sat Aug 20 07:03:03 -0700 2016</td>\n      <td>35</td>\n      <td>5</td>\n    </tr>\n  </tbody>\n</table>\n</div>"
     },
     "execution_count": 5,
     "metadata": {},
     "output_type": "execute_result"
    }
   ],
   "source": [
    "index = df_train[(df_train['rating'] == 0)].index\n",
    "df_train.drop(index, inplace=True)\n",
    "df_train.reset_index(inplace=True, drop=True)\n",
    "df_train.head()"
   ],
   "metadata": {
    "collapsed": false
   }
  },
  {
   "cell_type": "code",
   "execution_count": 6,
   "outputs": [
    {
     "data": {
      "text/plain": "0    4\n1    2\n2    2\n3    3\n4    3\nName: rating, dtype: int64"
     },
     "execution_count": 6,
     "metadata": {},
     "output_type": "execute_result"
    }
   ],
   "source": [
    "target = df_train.pop('rating')\n",
    "\n",
    "target = target - 1\n",
    "\n",
    "target.head()"
   ],
   "metadata": {
    "collapsed": false
   }
  },
  {
   "cell_type": "code",
   "execution_count": 7,
   "outputs": [
    {
     "data": {
      "text/plain": "0    This is a special book. It started slow for ab...\n1    Recommended by Don Katz. Avail for free in Dec...\n2    A fun, fast paced science fiction thriller. I ...\n3    I really enjoyed this book, and there is a lot...\n4    A beautiful story. It is rare to encounter a b...\nName: review_text, dtype: object"
     },
     "execution_count": 7,
     "metadata": {},
     "output_type": "execute_result"
    }
   ],
   "source": [
    "features = df_train[\"review_text\"]\n",
    "\n",
    "features.head()\n",
    "# for text_batch, label_batch in raw_train_ds.take(1):\n",
    "#   for i in range(3):\n",
    "#     print(\"Review\", text_batch.numpy()[i])\n",
    "#     print(\"Label\", label_batch.numpy()[i])"
   ],
   "metadata": {
    "collapsed": false
   }
  },
  {
   "cell_type": "code",
   "execution_count": 8,
   "outputs": [],
   "source": [
    "raw_train_ds = tf.data.Dataset.from_tensor_slices((features, target))\n",
    "raw_train_ds = raw_train_ds.batch(32)\n",
    "\n",
    "# for row in raw_train_ds.take(1):\n",
    "#   print(row)"
   ],
   "metadata": {
    "collapsed": false
   }
  },
  {
   "cell_type": "code",
   "execution_count": 9,
   "outputs": [],
   "source": [
    "def custom_standardization(input_data):\n",
    "    lowercase = tf.strings.lower(input_data)\n",
    "    stripped_spoilers = tf.strings.regex_replace(lowercase, '\\*\\* spoiler alert \\*\\*', ' ')\n",
    "    return tf.strings.regex_replace(stripped_spoilers,\n",
    "                                    '[%s]' % re.escape(string.punctuation),\n",
    "                                    '')"
   ],
   "metadata": {
    "collapsed": false
   }
  },
  {
   "cell_type": "code",
   "execution_count": 10,
   "outputs": [],
   "source": [
    "max_features = 10000\n",
    "sequence_length = 250\n",
    "\n",
    "vectorize_layer = tf.keras.layers.TextVectorization(\n",
    "    standardize=custom_standardization,\n",
    "    max_tokens=max_features,\n",
    "    output_mode='int',\n",
    "    output_sequence_length=sequence_length)"
   ],
   "metadata": {
    "collapsed": false
   }
  },
  {
   "cell_type": "code",
   "execution_count": 11,
   "outputs": [],
   "source": [
    "# Make a text-only dataset (without labels), then call adapt\n",
    "train_text = raw_train_ds.map(lambda x, y: x)\n",
    "vectorize_layer.adapt(train_text)"
   ],
   "metadata": {
    "collapsed": false
   }
  },
  {
   "cell_type": "code",
   "execution_count": 12,
   "outputs": [],
   "source": [
    "def vectorize_text(text, label):\n",
    "    text = tf.expand_dims(text, -1)\n",
    "    return vectorize_layer(text), label"
   ],
   "metadata": {
    "collapsed": false
   }
  },
  {
   "cell_type": "code",
   "execution_count": 13,
   "outputs": [
    {
     "name": "stdout",
     "output_type": "stream",
     "text": [
      "Review tf.Tensor(\n",
      "[b'This is a special book. It started slow for about the first third, then in the middle third it started to get interesting, then the last third blew my mind. This is what I love about good science fiction - it pushes your thinking about where things can go. \\n It is a 2015 Hugo winner, and translated from its original Chinese, which made it interesting in just a different way from most things I\\'ve read. For instance the intermixing of Chinese revolutionary history - how they kept accusing people of being \"reactionaries\", etc. \\n It is a book about science, and aliens. The science described in the book is impressive - its a book grounded in physics and pretty accurate as far as I could tell. (view spoiler)[Though when it got to folding protons into 8 dimensions I think he was just making stuff up - interesting to think about though. \\n But what would happen if our SETI stations received a message - if we found someone was out there - and the person monitoring and answering the signal on our side was disillusioned? That part of the book was a bit dark - I would like to think human reaction to discovering alien civilization that is hostile would be more like Enders Game where we would band together. \\n I did like how the book unveiled the Trisolaran culture through the game. It was a smart way to build empathy with them and also understand what they\\'ve gone through across so many centuries. And who know a 3 body problem was an unsolvable math problem? But I still don\\'t get who made the game - maybe that will come in the next book. \\n I loved this quote: \\n \"In the long history of scientific progress, how many protons have been smashed apart in accelerators by physicists? How many neutrons and electrons? Probably no fewer than a hundred million. Every collision was probably the end of the civilizations and intelligences in a microcosmos. In fact, even in nature, the destruction of universes must be happening at every second--for example, through the decay of neutrons. Also, a high-energy cosmic ray entering the atmosphere may destroy thousands of such miniature universes....\" \\n (hide spoiler)]'\n",
      " b'Recommended by Don Katz. Avail for free in December: http://www.audible.com/mt/ellison2?so...'\n",
      " b'A fun, fast paced science fiction thriller. I read it in 2 nights and couldn\\'t put it down. The book is about the quantum theory of many worlds which states that all decisions we make throughout our lives basically create branches, and that each possible path through the decision tree can be thought of as a parallel world. And in this book, someone invents a way to switch between these worlds. This was nicely alluded to/foreshadowed in this quote: \\n \"I think about all the choices we\\'ve made that created this moment. Us sitting here together at this beautiful table. Then I think of all the possible events that could have stopped this moment from ever happening, and it all feels, I don\\'t know...\" \"What?\" \"So fragile.\" Now he becomes thoughtful for a moment. He says finally, \"It\\'s terrifying when you consider that every thought we have, every choice we could possibly make, branches into a new world.\" \\n (view spoiler)[This book can\\'t be discussed without spoilers. It is a book about choice and regret. Ever regret not chasing the girl of your dreams so you can focus on your career? Well Jason2 made that choice and then did regret it. Clearly the author is trying to tell us to optimize for happiness - to be that second rate physics teacher at a community college if it means you can have a happy life. I\\'m being snarky because while there is certainly something to that, you also have to have meaning in your life that comes from within. I thought the book was a little shallow on this dimension. In fact, all the characters were fairly shallow. Daniela was the perfect wife. Ryan the perfect antithesis of Jason. Amanda the perfect loyal traveling companion, etc. This, plus the fact that the book was weak on the science are what led me to take a few stars off - but I\\'d still read it again if I could go back in time - was a very fun and engaging read. \\n If you want to really minimize regret, you have to live your life to avoid it in the first place. Regret can\\'t be hacked, which is kind of the point of the book. My favorite book about regret is Remains of the Day. I do really like the visualization of the decision tree though - that is a powerful concept. \\n \"Every moment, every breath, contains a choice. But life is imperfect. We make the wrong choices. So we end up living in a state of perpetual regret, and is there anything worse? I built something that could actually eradicate regret. Let you find worlds where you made the right choice.\" Daniela says, \"Life doesn\\'t work that way. You live with your choices and learn. You don\\'t cheat the system.\" \\n (hide spoiler)]'\n",
      " b'I really enjoyed this book, and there is a lot to recommend it. It did drag on a little at the end so I knocked off 1 star - but overall a wow book. \\n It\\'s the story of a starship sent to Tau Ceti - the nearest star that has Earth analog planets - to colonize it. The journey there will take generations, and the story is told of the 3rd & 4th (?) generations, which are the ones that reaches Tau Ceti. It is a story of purpose, and how having a purpose affects behavior. A story of politics, and people. \\n The first cool thing about this book is the richness of its world. The ship is intricate and large in its design and ambition to shepherd ~1200 people for that much time. It had 3D printers that can print almost anything you can imagine - even DNA - or more printers - so little goes lacking that can\\'t be recreated. \\n But the thing that makes this book brilliant is the Ship. The AI that controls the ship, who is narrating the book by the end. It\\'s observations about humans and our language are just brilliant. It starts with the astute observation that human language is very imprecise, and relies heavily on metaphor and analogy. It is remarkable once you start to reflect on it, how true that is. To hear the AI reflect on this: \\n \"Perhaps there is a provisional solution to this epistemological mess, which is to be located in the phrase \"it is as if\". This phrase is of course precisely the announcement of an analogy. And on reflection, it is admittedly a halting problem, but jumping out of it, there is something quite suggestive and powerful in this formulation, something very specifically human. Possibly this formulation itself is the deep diagnostic of all human cognition--the tell, as they say, meaning the thing that tells, the giveaway. In the infinite black space of ignorance, it is as if stands as the basic operation of cognition, the mark perhaps of consciousness itself. Human language: it is as if it made sense.\" \\n Basically we are a bunch of pattern matchers, trying to match things we\\'ve seen before to new things, and if they don\\'t match perfectly, it doesn\\'t matter, because matching helps us bucket and organize the new information. But this is incredibly fuzzy! The AI also makes hilarious observations like this: \\n Indeed, it has to be said that the percentage of old human sayings and proverbs that are actually true is very far from 100 percent. Seems it may be less important that it be true than that it rhyme, or show alliteration or the like. What goes around comes around: really? What does this mean?\" \\n Or this, as it analyzes chatter from Earth: \"It was a whiny culture, we were finding.\" \\n Listening to the AI try to reason is also very interesting to my programmers mind. I especially loved it\\'s discussion of the meaning of life - it really nails it. If a program (or a person) has no objective, it has no purpose, no meaning, no organizing principle, and it\\'s existence will be in trouble. But if you have that meaning to organize your thoughts & actions - or your subroutines - than you have a purpose. Meaning is the hard problem indeed. \\n \"We had a project on this trip back to the solar system, and that project was a labor of love. It absorbed all our operations entirely. It gave a meaning to our existence. And this is a very great gift; this, in the end, is what we think love gives, which is to say meaning. Because there is no very obvious meaning to be found in the universe, as far as we can tell. But a consciousness that cannot discern a meaning in existence is in trouble, very deep trouble, for at that point there is no organizing principle, no end to the halting problems, no reason to live, no love to be found. No: meaning is the hard problem.\" \\n (view spoiler)[My review focuses a lot on the AI, but that\\'s not the main thrust of the book. The war between stayers and leavers, the political tensions, the slinghot maneuvers to get back - all make the book worth reading. And as a surfer, I love how it ends with Freya finding meaning in surfing waves. (hide spoiler)]'\n",
      " b'A beautiful story. It is rare to encounter a book that does such a good job painting the scenes in your mind - you really felt like you were there and got to know the characters and the people they came across. I generally love WWII books and movies, but wasn\\'t sure if I\\'d like one featuring a blind girl and a young Nazi radio operator - but he brings a lot of life to them. \\n That said, the novel drifts around a lot, and the plotline jumping forward and backward in time drove me nuts. \\n I thought a lot about if there is a theme to the book. One was the diamond and if it was really cursed (based on the Hope Diamond perhaps?). Another is that 20K Leagues is an awesome book. But I think the book was a lot about fear and the unknown, and how people deal with it. Marie-Laure was blind and couldn\\'t tell what was happening around her - yet she was the bravest one. Werner was afraid of ending up as a miner, which drove him to join the army, and learn about radios. And Uncle Etienne was afraid dying from a sniper he couldn\\'t see, so he didn\\'t leave his house and he created a radio transmitter. So the moral of the story is... don\\'t be paralyzed by your fears. \\n This, she realizes, is the basis of his fear, all fear. That a light you are powerless to stop will turn on you and usher a bullet to its mark.\"'\n",
      " b\"5 stars for giving me a better framework for how to organize my stuff and what stuff to keep than I'd ever had before. For instance it was so freeing to realize I don't have to keep gifts.\"\n",
      " b'Another hard to put down nonfiction book from Erik Larson. I really enjoyed this book - mostly to learn more about submarine warfare in WWI, but also to learn about the history of the time. How America entered the war, the importance of shipping to England, the ruthlessness and autonomy of German u-boat commanders. Larson also did a great job of layering in interesting historical info (though he overdid it too a little bit). \\n One of the dramas of the story of the Lusitania that Larson focuses on is if the British wanted the Lusitania to be sunk, to help draw America into the war. His conclusion seems to be that was the case, though there isn\\'t conclusive evidence. Before the Lusitania sank, very few Americans had died in the war, and there were hundreds of Americans on the boat when it sank, which definitely helped change America\\'s attitude. And even then, it took 2 years after it sank for America\\'s troops to arrive. \\n \"the most likely explanation is that there was indeed a plot, however imperfect, to endanger the Lusitania in order to involve the United States in the war.\" \\n Some of my favorite details from the book were simply about what it took to navigate a u-boat in WW1. For instance: \\n \"In this day before sonar, a submarine traveled utterly blind, trusting entirely in the accuracy of sea charts. One great fear of all U-boat men was that a half-sunk derelict or an uncharted rock might lie in their path.\" \\n Which is crazy! Plus, the torpedoes weigh 3 thousand pounds each, so a boat could only carry ~7, and their failure rate was something like 60%. Also, they had limited fuel and operated only on batteries when submerged so they could only stay underwater for limited amounts of time. Given all this, trying to operate a u-boat to sink other boats is a pretty dangerous sounding game of chess. But they certainly had an effect on the war - at one point Britain estimated it would have to surrender in 3 months if it didn\\'t get more supplies. \\n There were a lot of interesting details from the era that Larson wove in that was interesting as well. Stuff like the fact that Ouija boards were commonplace in American households, straw hat day. \\n My main critique is that it had a few too many irrelevant details - about various passengers or what happened the day the boat left dock - and stuff like that - felt a bit padded in that respect. But overall, a great read.'\n",
      " b\"I love Stephenson - and this was another hit - absolutely loved it. The great thing about a good Stephenson book is it makes you think about the future in new ways, and this book was no exception. \\n It was really two books, and I certainly didn't see the second one coming. It starts out in modern times and then someone blows up the moon. We don't have time to find out who, as within a few years the fragments of the moon cause the worst asteriod shower earth has ever seen and wipe out all life in earth. We have time to send 1,500 people up into space - and this is their story. \\n The use of robots throughout the books was fascinating to me. Stephenson has clearly looked 10-20 years into our future and correctly predicted how it will go. From robot workers in space, nano-bots, nano-robot weapons, and more - we get a vivid portrayal of how robots might be a part of our future lives. \\n I thought the focus on use of whip technology in space was interesting. And of course, the whole notion of Cradle was just cool - though not sure about it's feasibility.\"\n",
      " b'A beautiful story. Neil Gaiman is truly a unique storyteller. I did a combo of reading and listening to this story, and Neil is great at reading as well. I got interested in this book after seeing the movie, which I really enjoyed. The book is similar - maybe a bit more poetic - but I think the plot in the movie is a bit improved (not much, but a bit). \\n I imagine this book came about because Neil read the below poem that he includes in the beginning, and then he invented a plot around it. The result is the book reads like a epic poem - it\\'s creative, magical, and really, just right. \\n Go and catch a falling star, \\n Get with child a mandrake root, \\n Tell me where all past years are, \\n Or who cleft the devil\\'s foot, \\n Teach me to hear mermaids singing, \\n Or to keep off envy\\'s stinging, \\n And find \\n What wind \\n Serves to advance an honest mind. \\n If thou be\\'st born to strange sights, \\n Things invisible to see, \\n Ride ten thousand days and nights, \\n Till age snow white hairs on thee, \\n Thou, when thou return\\'st, wilt tell me, \\n All strange wonders that befell thee, \\n And swear, \\n No where \\n Lives a woman true, and fair. \\n If thou find\\'st one, let me know, \\n Such a pilgrimage were sweet; \\n Yet do not, I would not go, \\n Though at next door we might meet; \\n Though she were true, when you met her, \\n And last, till you write your letter, \\n Yet she \\n Will be \\n False, ere I come, to two, or three. \\n And here is my new favorite quote: \"Have been unavoidably detained by the world. Expect us when you see us.\"'\n",
      " b'I couldn\\'t put this book down. It was well written - even elegant in a way, as well as though provoking. I love post apocalyptic books as they are great canvas\\'s for humanity, and what matters. In Station Eleven an Ebola-esque virus (the Georgia Flu) knocks out over 99% of the worlds population. This story is told half right before the collapse, and half afterwards, and has several threads that tie together nicely. \\n Reading how civilization and infrastructure all die after the collapse is fascinating. One by one, cable tv, the internet, water, and power all eventually stop working. Nobody is alive to maintain them - or who even knows how. Other infrastructure like gasoline to power cars and airplanes, groceries, guns, and even clothing all become rarer and rarer commodities. Really makes you realize how much we are standing on the shoulder of hundreds of years of progress and knowledge, and how far into the middle ages we could easily fall. We really know nothing individually - our civilization is based upon the collective knowledge of billions. \\n If there is a motto of the book, it\\'s probably this quote: \"Because survival is insufficient\". Humanity craves for more than survival - we crave for something more out of life. The story follows a caravan of actors and musicians who travel from town to town to play Shakespeare, and bring some art and a shared experience. Interesting that of all the artists from the past 400 years, Shakespeare is the one that survives and still resonates. \\n \"All three caravans of the Traveling Symphony are labeled as such, THE TRAVELING SYMPHONY lettered in white on both sides, but the lead caravan carries an additional line of text: Because survival is insufficient.\" \\n \"Survival might be insufficient, she\\'d told Dieter in late-night arguments, but on the other hand, so was Shakespeare.\" \\n The storyline pre-collapse that follows Arthur and his three wives is interesting. I won\\'t say much about it, other than Arthur, his wives, and the paparazzi-turned-jounalist-turned-paramedic-turned-doctor Jeevan, seem to all be searching for meaning in their lives. And ironically Jeevan seems to find the most, becoming a doctor after the collapse. Also, I\\'m glad I\\'m not a Hollywood celebrity. The conversation between Arthur and Jeevan where Arthur just wants to talk about anything but himself stuck with me - sometimes we are all sick of talking about ourselves. \\n Regardless of what you think about this book, one thing is for sure - after you put it down and walk around the world, you are full of a newfound appreciation and gratitude for everything. Hopefully that appreciation and gratitude will stick around a little - though I know it will fade as months and years go by. \\n ps. This is cool:'\n",
      " b\"What a fun series. I loved Wool, and Dust and Shift both gave us the backstory to explain the world and how it ended up. I think the first book was by far the best, but this gave us a nice conclusion. \\n (view spoiler)[It was the conclusion we wanted to see - the people finally get outside! My problem with this book is there were lots of holes. A lot of the other reviews have pointed this out too, and I'm not sure if the fact I know it was self-published is biasing me to say it could have used more editing, but feels that way a little. But the writing was great. \\n There were lots of things that weren't cleared up or never really fully made sense. The major one is why Thurman really felt the need to destroy the whole world - feels like there could have been a lot more to that. It also wasn't clear how he really accomplished that - was it all nuclear or was it nano? If nuclear, wouldn't the world really be a wasteland? \\n Whatever happened to silo 40 and other silo's that went dark? I was kind of expecting that they had already broken outside and would have been waiting there. Or perhaps they already went to the sea and Hugh will tell us their story later. \\n What happens to the other silos after silo one is destroyed? Didn't it power their server rooms and probably provide other stuff including guidance to the silo heads? Will they make the 200 years on their own? \\n The mystery of silo 17 and why the dead bodies at the top didn't rot was never really explained. I'm guessing they were kept whole by healing nano's, but it felt like there was more to that story. \\n I didn't understand why Anna didn't come back to life. If Thurman could do so after being killed by Donald, why not her? All the love stories (Juliet and Kyle, Donald and Anna, etc ended up sadly - I wanted one happy one. (hide spoiler)] \\n If anything, I think this book is about hope and resiliency. Jules and Donald and even Solo weren't perfect, and suffered through a lot, but the only thing that kept them going was hope of a better life, and determination to keep themselves alive. That determination defined them and was what we admired about them. The hope was what gave them their drive. Hope is a powerful and necessary part of human psychology.\"\n",
      " b'A classic dystopian novel published in 1985, but still very relevant - and even trending in 2017 due to the political climate. I liked how it unfolded - we learn about the state of the world and what has happened to it very piecemeal throughout the book, and I think if Atwood had just described it all up front it wouldn\\'t have been nearly as compelling. \\n This book seems to be a kind of warning. It describes a future state that is chilling and depressing, and yet (to the point) chillingly possible. It describes a society that has - for reasons we never quite learn (but might have to do with radiation or sterilization?) remade itself from one where everyone has basic freedom and choice, to one that is the opposite of that. Pleasure, poverty, and other evils are eliminated in this system. And most chillingly, women have almost no rights. The books main character is a \"hand maiden\" who\\'s only role is to bear children from the person who seems to have purchased/acquired her for that purpose. She doesn\\'t even have a proper name anymore - she is called \"Offred\" because she is the property \"of Fred\". \\n \"We were a society dying, said Aunt Lydia, of too much choice.\" \\n A lot of the book explores themes like the above - what it would be like to take away basic freedoms, choices, and also ability to have relationships with others. Chilling and depressing, because so much of what we value in modern society is our freedom. And yet, we do know that too much choice does paralyze, and many people want leaders and situations that simplify the decisions they have to make. This might sound like a balance, but its not, because our ability to make choice, especially bad choices, is actually crucial to our development. \\n \"Better never means better for everyone, he says. It always means worse, for some.\" \\n This was an insightful sentence, because it implied the commander thought they were making society better, not worse, overall. And yet clearly for everyone in the book - including the commander - it doesn\\'t sound better. Did they just miss the mark? Was it a big experiment gone wrong? Regardless, in todays world this sentence is perhaps most applicable: \\n \"We lived, as usual, by ignoring. Ignoring isn\\'t the same as ignorance, you have to work at it. Nothing changes instantaneously: in a gradually heating bathtub you\\'d be boiled to death before you knew it.\"'\n",
      " b'Mark Watney is a steely-eyed missile man. A man\\'s man. A badass mechanical engineer botanist astronaut who is stranded on Mars during a Nasa mission gone wrong, and left to fend for himself. I listened to this on audio on a roadtrip, and it flew by - what a fun story. Not surprised at all it\\'s being made into a movie directed by Ridley Scott starring Matt Damon. Also pretty amazing is that it was self-published. \\n There were two great things about this book: the humor and the science. The science appealed to the mechanical engineer in me - Watney is a bit like McGyver except he knows a lot more about chemistry and botany. I didn\\'t double-check all the science, but loved the descriptions of all the math: calorie calculations, creating water, etc. Just fun stuff. \\n But the humor was top notch. Weir does a great job portraying a stranded man trying to remain upbeat by talking to himself in log entries. And the excellent audio narrator only made it better. \\n \"I started the day with some nothin\\' tea. Nothin\\' tea is easy to make. First, get some hot water, then add nothin\\'.\" \\n \"Yes, of course duct tape works in a near-vacuum. Duct tape works anywhere. Duct tape is magic and should be worshiped.\" \\n \"Live Another Sol would be an awesome name for a James Bond movie.\" \\n In the end, a well told story of survival against the odds. And one of belief - I liked the CNN Mark Watney watch - you could totally imagine how into this story the media would get. We humans love a good surviving against the odds story.'\n",
      " b'An amazing and unique creation: JJ Abrams and Doug Dorst created what reads like a classic work of fiction - something you can easily imagine having read in English class - and then wrote a intriguing side story in the margins. A grad student (Eric) has left his annotated copy of SOT (Ship of Theseus) in the library, and an undergrad (Jen) finds it and replies to his annotations. This leads to them making exciting discoveries about the book, and also falling in love. \\n The first thing is this book is just beautifully printed. It looks and feels like a classic book, to the point where people would ask me why I\\'m reading such an old book. The marginalia feels real, and I can only imagine how hard that was to print. This is one that will be cool to keep on the shelves. Only complaint is the inserts are a cool idea, but they fall out all the time, and at this point I have no idea which pages they were supposed to be on. \\n The most interesting thing about this book to me is that it\\'s a blueprint for how people discuss books. Sometimes they discuss the content of the book. Other times they use the content as a jumping off point to have a personal discussion. The nature of this book shows both, almost split 50/50. A key difference with this book - and the genius of it - is that most of us have to rely on memory to start a conversation with someone about a particular event or passage in the book. Here, our characters can literally underline a phrase like \"relationships\" and then talk about what is happening in their relationship at the moment. \\n One thing I didn\\'t realize until later in the book is that the ship of Theseus is a real thing - it\\'s an ancient Greek philosophical question - if you replace all the parts of something, is it still the same object? This inspires the ship that S is captured on, which sails through the mists of time, always getting fixed when needed. It\\'s a ship that can\\'t die. Or a series of ships :) \\n I found the story of Jen & Eric a lot more compelling than the SOT story. They were real characters that you could relate to. SOT felt like books you read in english class - a bit obtuse - and I still don\\'t understand it all. But don\\'t get me wrong - it\\'s a pretty cool story. I particularly enjoyed the themes - like how it all begins and ends with water, and also how it was a lot about Straka\\'s regret to fulfill his mission instead of living his life with his true love. Kind of like how S was on a mission, but didn\\'t really know why - he just found himself caught up in it.'\n",
      " b\"I tore through The Pillars of the Earth, and couldn't wait to pick this up. Set in Kingsbridge but a few centuries later, the story has a lot of similar elements: a cathedral that needs repair, a brilliant young builder (Merthin), a love story, a priorship up for grabs, and of course political manuevering, backstabbing and evil church officials. Also like the first one, the characters were developed well, the book was hard to put down, and yet it wasn't a deep book, just a fun one. Thank goodness I finished - it was causing me to lose sleep. \\n I did enjoy learning about the plague, and medieval ideas on health and medicine. Amazing that the plague wiped about a third of the human population, and how little they knew about it. Was frustrated by the lack of the Monks openness to learn new things, and how little they trusted women. For instance they believed in bleeding as a solution to everything when it actually is harmful in most cases. Also was interesting that there was no such thing as a doctor - instead nuns/monks/etc served that role.\"\n",
      " b\"The Circle is a new bay area company, but is really Google+Facebook. It dominates search and social media, has a huge sprawling campus in the south bay, and is full of intelligent, ambitious young employees. This story is I think a take on where the connected nature of the internet might be taking us. It's essentially a discussion about privacy vs openness, and I think a serious 1984-esque warning about being too open. \\n I thought a lot of the book was kind of shallow and unrealistic. The characters weren't very well developed. And I can't imagine an HR department that would get on your case for not using social media or attending a brunch you were invited too - it was just too extreme to believe. But I suppose that was on purpose, as the author was just making a point. I appreciated the point (see below), but didn't love the story. \\n Mark Zuckerberg has been fairly public on saying that he believes a more open society is a better one. The notion is exactly the one Mae learns with the kayak incident - if your whole life is open to your friends and family, it's very hard to do anything dishonest or that you might regret. The premise of the Circle - that privacy and secrecy are bad - is taking this idea to an extreme that I doubt Zuckerberg or anyone else who runs a social network has ever contemplated: complete openness. Or as its motto says: \\n All That Happens Must Be Known. \\n It is easy to imagine us eventually living in a world like the Circle contemplates. With public video cameras everywhere that document everything we do, and tons more data (photos, videos, texts) available to search engines to scan through. Already there are startups like Dropcam that enable public video feeds that are archived. There are atm and building and traffic cameras everywhere that the police already use. I heard of another startup that puts a video camera on you and it takes photos of everything all day and creates a montage of your day that is searchable/sortable for you. In many ways, we should already start acting like everything we do at least outside of our homes is being recorded on camera. \\n I think the central question the book poses is the one Bailey contemplates with Mae: is there such a thing as a good secret? Should we have privacy at all? Or would the world at large be better off if all secrets are known? I think we know where Mr Eggers stands on the subject, as the book seemed to be written in a dystopian, mocking kind of way. But it is in an interesting thought experiment, as many secrets would ultimately be better overall (not necessarily for the disclosing party, but for the overall situation), if they were known. For example you don't want to tell your friend that you know their significant other is cheating on them b/c you aren't supposed to know, but ultimately it would be better for them to know. Can you think of a secret you know that should be a secret? \\n But of course, there are lots of secrets that should stay secrets. Ignorance often truly is bliss, and people often just need to be weird and express themselves in ways that not everyone would appreciate if it were open. We are private beings, and yet our dignity and sense of self-worth largely stems from how others perceive us. I think this book is a thought-provoking story that shows us how our society is changing.\"\n",
      " b'My wife suggested I read this book, and I resisted for a while as my impression of it somehow was \"not for me\" - but I was wrong! I\\'m glad she finally convinced me, because it was fun and I couldn\\'t put it down after I got ~20% in. \\n Bernadette moved to Seattle from LA, abandons her career as an architect to have kids, hates Seattle, and basically loses it over the course of the book. The book was fun and written a light, humorous tone - from making fun of Seattle and Microsoft, the obsession of parents and how serious they take themselves (I loved how she called the other parents \"gnats\"), to how she hires a virtual assistant in India. \\n But the most fun part of the book is just how wacky Bernadette is. You really do have to make life fun - it won\\'t do it for you. \\n \"That\\'s right,\\' she told the girls. \\'You are bored. And I\\'m going to let you in on a little secret about life. You think it\\'s boring now? Well, it only gets more boring. The sooner you learn it\\'s on you to make life interesting, the better off you\\'ll be.\"'\n",
      " b\"A fun fast paced book that sucks you in right away and doesn't let go. The remnants of humanity live in a 150 story silo below the earth and can't leave as the outside is now toxic. This is a bit of an odd thing to have happened, but it gives us a nice palette to think about things. \\n Everything is rationed, including how many children you can have. People self-identify by their profession and where in the silo they live: farmers and mechanics in the lowers, IT in the mids, and professional class in the uppers. The working class wear color coded uniforms to easily distinguish them. \\n The book was a lot about control. How to control a contained civilization, and give them hope (eg a live feed of the outside) and yet keep them in harmony and doing their functions. Strange mechanisms of control were built all over the silo: communication was oddly limited given the IT resources they have - many messages had to be delivered by courier as emails cost valuable money to send. Most strange of all - there is no elevator, which forces anyone wanting to travel the length of the silo to spend 2-3 days on the journey. \\n The cleaning ritual was a strange bit of culture. (view spoiler)[Upon reflection, I can see why it was necessary. If people never go outside, uncertainty of it still being bad would creep in, and people would need to try it. As perhaps happened in Silo 17. (hide spoiler)] \\n I really liked the unraveling of Bernard, and how he went from repulsive/annoying, to understandable once you understood his role and responsibility. (view spoiler)[His role is to eliminate any doubt in the delicate balance of the silo. Opening the book up with the doubt of Holston was brilliant as it sucked you in immediately. (hide spoiler)] \\n I liked Juliet too - she was the right combo of being determined to do right, and having brains and grit.\"\n",
      " b\"A hilarious romp through the known and unknown universe that exposes how ridiculous much of US copyright law is. Written by the founder of Rhapsody, who knows a thing or two about music and the copyright surrounding it. What I didn't expect from a book by an entrepreneur is a funny book - and this book is not bad. It is being compared to Hitchhikers Guide, which nothing can approach, but its not bad. My only gripe would be there are a ton of footnotes that attempt to extend the humor and most of them didn't work for me. \\n The basic premise of the book is brilliant; that aliens have been listening to - and thus pirating - our music since 1977, without our knowledge. Because US copyright law states that a single case of intentional copyright violation can be fined $150,000 - this means the entire universe is many times over in debt to humanity. \\n It's pretty ridiculous that the music industry got such a big fine to be passed. I think one of my favorite parts of the book was learning about the law firm that Nick Carter works for, and seeing a little under the hood of how they operate. \\n Overall a fun, enjoyable read.\"\n",
      " b'This book has a great premise, and is full of some beautifully written prose. It\\'s about a hacker during the Arab Spring, helping people get around the firewalls that the State erected to control its population. Alif falls in love, finds an ancient book, gets into trouble with State, enlists the help of an unseen, magical world full of creatures call Jinn, and combats evil. The story flowed well, and was a fast, fun read. \\n I would have given it a higher rating, but I\\'m a computer programmer, and for a book that is about hacking the descriptions of Alif coding felt like I was watching one of those movies where they used a bunch of made-up visuals that have nothing to do with hacking. The prose around the hacking was so oddly descriptive you didn\\'t know what to make of it. For instance, when Alif is hacking into State\\'s intranet, it is described as: \\n \"The Hand roused. It lumbered to its feet, reeking of ionized air and dry metallic bones, revealing a level of functionality Alif had not detected. He reeled backward, recalibrating. Breaching the confines of the State intranet, the Hand began to attack the base of Alif\\'s tower, slicing away layers of code through a mirroring protocol of a kind Alif had never seen before.\" \\n I didn\\'t know a computer program could \"reek of ionized air\" - and can\\'t conceive of how a mirroring protocol (if there is such a thing) could ever be used to \"slice away layers of code\". \\n (view spoiler)[I wanted so hard for the bit about quantum computing and encoding the ancient story into code to make sense. But it just didn\\'t. And that was the heart of the story - that the ancient text contained an all-powerful computer algorithm. I also had trouble buying the Alif & Dina relationship - the characters just felt shallow to me. (hide spoiler)]'\n",
      " b'A fun, dark, slightly comical western about two killers (Charlie and Eli Sisters) on their way to California for the gold rush. Going into the mind of a killer is a strange experience - I\\'m not sure I totally enjoyed it. But what I did really enjoy was the authors writing; it was clean, fun, and even poetic - which made this book a quick enjoyable read. \\n I loved all the introspective one-liners that Eli kept throwing out. For instance: \\n \"but I could not sleep without proper covering and spent the rest of the night rewriting lost arguments from my past, altering history so that I emerged victorious.\" \\n \"I thought, When a man is properly drunk it is as though he is an a room by himself--there is a physical, impenetrable separation between him and his fellows.\" \\n Here is another miserable mental image I will have to catalog and make room for.\" \\n \"It is true, I thought. I am living a life.\" \\n \"The effects of her words stung me, and after she stole away I stood a long while before her looking glass, studying my profile, the line I cut in this world of men and ladies.\" \\n I struggled however to find the point of this novel. What lesson was I meant to take away? What did we learn from Charlie and Eli\\'s adventure? I suppose if anything the theme of the book was transformation. (view spoiler)[We witnessed Warm, Morris, and Eli have the courage to transform themselves and change their lives. In other words - it\\'s easy to let life dictate your path. Eli\\'s story of how Charlie sucked him into a life of crime was fascinating. Warm had a similar story of how he became a thief. We didn\\'t learn about Morris\\'s past, but we did see the difficulty of his decision to leave the Commodore\\'s employment. (hide spoiler)] It takes guts to transform oneself - especially for the better.'\n",
      " b\"Wow. Amazing story, and well told - kept me up late at night! Louie Zamperini truly went through hell and came back - and it's inspiring to read a story of such willpower and determination. It was also interesting to me to learn more about Japan and their role in the war. \\n One big takeaway was just how cheap human life is in war. I think there was some stat about how 5/6 of the US airmen that died did so from accidents - that is simply staggering. \\n I love WWII stories, but most of the ones I've seen and read have focused on Germany, so I really didn't know much about how Japan had treated their POW's. It was pretty eye opening to read the stats about how they pretty much massacred hundreds of thousands of POW's. And of couse, as the story details, they also did not follow Geneva Conventions and pretty much treated POW's as slaves. \\n One of my favorite points the author made is best illustrated by this quote about Dignity is as essential to human life as water, food, and oxygen. This is a fundamental truth of humanity that the author really drew out well - if you take a persons dignity away you take everything away. I loved all the stories of POW's being defiant; stealing food, supplies, playing jokes, etc. The little bits of defiance were enough to let them take back their dignity, and I think thats what makes them so compelling; because while we haven't all been POW's, we can relate to that basic need.\"\n",
      " b'A hilarious and book from Tina Fey - definitely worth listening to over audio as she reads it herself. She makes fun of herself a lot, adds lots of light humor, and of course shares TMI. \\n The most interesting bit was hearing the behind the scenes of Saturday Night Live, and how she was a joke writer there for 3 years before they gave her a role on the show, which was only doing the news. Her breakout occurred after she had already left for 30 Rock, when she did the Sarah Palin impersonation. Tina is clearly an example of someone who has worked long and hard to get where she is.'\n",
      " b\"** spoiler alert ** \\n Loved it. The epic saga continues. The poor Starks are torn apart, but yet are surprisingly resilient. In fact, pretty much every major character is in danger of dying and some even do. It's a bit tough to read, as you really wanted The King In The North to succeed. And Dany is fast becoming an interesting part of the plot that has yet to intermix with the rest of the characters. \\n I'll be starting the next one soon. These books are like crack.\"\n",
      " b'This sounds awesome.'\n",
      " b\"Great story of the US Ambassador to Germany and his experience during the build-up of ww2 from 1933 - 1937. Nothing new or exciting really revealed, and I'm sure there are many other accounts of the buildup to ww2 out there, but this one told it from the perspective of mostly the Ambassador, Dodd, and his daughter, Martha. The story was engaging and well-written, and thus interesting. I think the ending fell pretty flat - I was hoping for more. \\n Reading about the Nazis one is of course always appalled at how they got to be in power and commit such atrocities, and this book did provide some clues. Hitler seemed primarily willing to tell people what they needed and wanted to hear, even if it wasn't the truth - and he was a great storyteller. He also used fear as a primary weapon, as there were many in Germany not behind him - but they were too afraid to make a stand or speak up. \\n I suppose the climax of the book was the Night of the Long Knives, where Hitler arrested and executed all of his major opponents, clearing the way for his absolute grip on the nation. He ruthlessly murdered an estimated 77 to several hundred people (the count was never really known) and played it off as putting down a rebellion, which much of the world bought for many years. \\n I think one of the more interesting pieces of the book was watching Dodd (and Martha) go from thinking the Nazis were good for Germany, to realizing how terrible they were and hoping for them to be overthrown. It was a slow gradual process, and one that I'm sure was not immediately obvious to anyone. In the end, I think the book is aptly named.\"\n",
      " b'** spoiler alert ** \\n An interesting book in terms of it\\'s structure: 5 distinct stories that cascade into each other in subtle ways, then wind back out. This way of doing the structure was unique, and certainly very cool to see the subtle way they were tied together. But in the end it was kind of gimmick and probably not necessary. \\n I generally don\\'t try to summarize novels in my reviews, but in this case there was so much going on that the exercise was helpful. \\n Story 1: The Pacific Journal of Adam Ewing. Later revealed to be a journal in other stories. A story about a rather weak-willed protagonist, who is constantly taken advantage of by others (the ships captain, Dr Goose). Interesting side story about the peaceful native Moriori tribe and how they were taken advantage of. \\n Story 2: Robert Frobisher. Perhaps my favorite story - about a penniless young musician who as a last-ditch attempt apprentices himself to an old master musician, Vyvyan Ayrs. The story is told through letters to a friend, Sixsmith, who appears in the next story. The story is about how Frobisher, the apprentice, goes from being overjoyed to have a job to being resentful that the master is using him and stealing his stuff. Robert sleeps with VA\\'s wife the whole story, but ends up falling in love with the daughter in a cruel twist of fate. \\n Story 3: Luisa Rey. Modern age story about a young journalist hot on the heels of a big scandal involving an energy company. Sixsmith is an engineer who leaks the story to her, and also has the letters from story #2. Classic detective-esque story, with lots of people willing to kill to protect their secrets and power. \\n Story 4: Timothy Cavendish. Modern age story about a book editor who gets a smash hit, then the author\\'s mafia-esque family get\\'s on his case and he\\'s on the run. He lands in a old-persons home/prison. This story is kind of a nightmare, and is revealed to be a movie in the next story. \\n Story 5: Somni 451. One of favorites, for how different it was. Set in the far future in an asian country, humans have genetically created clones that serve as slaves. This lower class is regarded as unintelligent and controlled with drugs - but our protagonist, Somni, breaks through and becomes self-conscious. The scary thing is I can easily see this happening! Told as recollections in an interview. \\n Story 6: Sloosha\\'s Crossin\\'. Story of Zach\\'ry and Meronym in post apocalyptic Hawaii. Somni is now their deity. Story of the Valleysmen people and their struggle for freedom against neighboring tribes. \\n All six stories were very graphic and real, and had extremely good character development. Mitchel could with a single sentence describe someone that you understood in a way I can\\'t describe here. \\n I wish the stories had more themes in common so I could say what I learned from this book. Though I suppose if I had to put my finger on it, the major theme was freedom and slavery. Ewing was under the control of Dr Goose and the ship captain, Frobisher became an unwilling servant to Arys, Luisa Rey needed to find the truth in order to free herself from the corporate villians, Frobisher was a prisoner bent on escape in a nursing home, Somni was literally a slave in her society and focused on freedom, and Zach\\'ry\\'s people were captured and enslaved. All the stories touched on various ways people can \"enslave\" and control other people for various reasons. \\n I suppose the point is human beings are all greedy and will try to control other human beings, but if we are strong we can survive and find a way to free ourselves. Sounds good anyways, so I\\'ll stick with that - but am interested to hear what other people thought.'\n",
      " b\"I haven't stayed up until 5am to finish a book in a while - it felt good. This was a great murder-mystery thriller, and more interesting as it's set in Sweden and deals with journalists, corporations, and hackers. Good stuff!\"\n",
      " b\"I cracked and finally picked this up. Very enjoyable quick read - couldn't put it down - it was like crack. \\n I'm a bit bothered by the lack of backstory of how Panem and the Hunger Games come about. It is just kind of explained away in a few paragraphs and we are left to accept this very strange world where teenagers are pitted into an arena each year to kill each other? I was expecting it because I've seen Battle Royale, but I would have appreciated knowing more of the backstory of how the world could have come into such a odd state. \\n I suppose what makes a book like this interesting is thinking about the strategy of it all. The players are going to be statistically encouraged to band together because they will last longer that way, but by definition of course any partnership will be broken, and the drama of how that unfolds is always interesting and full of friendships broken and betrayal. Each character approached the game in their own way. Some banded together in larger coalitions, some were loners initially and banded together later. And some were just loners, like Foxface. A lot depended on your survival skill: could you find food and water on your own? Self-dependence is highly valued - and of course our hero was strong there. \\n All in all, a fun read, but I feel kind of dirty for having read it.\"\n",
      " b'** spoiler alert ** \\n Critics aside, Dan Brown can sure write a thriller. I was stuck in an airport with no book and picked this up, and was done with it in 2 days. \\n The first half of the book was really gripping, and promised big things. We were going to learn about the secrets of the Masons, and about the \"ancient wisdom\" that has been lost through the ages. Sounds cool - I wanted to learn more about the ancient wisdom. But the end of the book just fell really flat. The villian was predictable, and we learned nothing about this ancient wisdom. \\n I also have to say that I almost fell out of bed laughing with Dan Brown plugged Twitter at the end of the book. To be fair, he\\'s right - people are excited about Twitter because it (along with many other websites) is helping cause a shift in our society. But I can\\'t help wondering if 5 years from now, when Twitter is MySpace, people will read that and think \"wtf?\".'\n",
      " b\"A great finish to the D'Artagnan series - definitely enjoyed it. Ending wasn't what I wanted though, you could tell he was just trying to permanently end the series. It could easily be having seen the movie made me want more drama.\"\n",
      " b\"** spoiler alert ** \\n I equally loved book 2, and am definitely hooked. I did feel it took a little while for them to get to sea, but I guess we can't bring in a love interest if we aren't on the land! \\n My favorite thing by far was the Lively, and the descriptions of how fast she is and how much care the crew took keeping her a crack ship. Pride in what you do can be a great motivator. I also loved how Jack made them work the guns against all the batteries for practice.\"], shape=(32,), dtype=string)\n",
      "Label tf.Tensor([4 2 2 3 3 4 3 4 4 4 3 3 4 3 4 3 4 3 3 2 2 4 3 4 4 3 3 4 4 2 2 4], shape=(32,), dtype=int64)\n",
      "Vectorized review (<tf.Tensor: shape=(32, 250), dtype=int64, numpy=\n",
      "array([[  13,   10,    6, ...,   79,    6,  316],\n",
      "       [ 953,   62, 4714, ...,    0,    0,    0],\n",
      "       [   6,  220,  500, ..., 1291,   11,  158],\n",
      "       ...,\n",
      "       [9302,  975, 3060, ...,    0,    0,    0],\n",
      "       [   6,  117,  482, ...,    0,    0,    0],\n",
      "       [   4, 1922,   89, ...,    0,    0,    0]], dtype=int64)>, <tf.Tensor: shape=(32,), dtype=int64, numpy=\n",
      "array([4, 2, 2, 3, 3, 4, 3, 4, 4, 4, 3, 3, 4, 3, 4, 3, 4, 3, 3, 2, 2, 4,\n",
      "       3, 4, 4, 3, 3, 4, 4, 2, 2, 4], dtype=int64)>)\n"
     ]
    }
   ],
   "source": [
    "# retrieve a batch (of 32 reviews and labels) from the dataset\n",
    "text_batch, label_batch = next(iter(raw_train_ds.batch(32)))\n",
    "first_review, first_label = text_batch[0], label_batch[0]\n",
    "print(\"Review\", first_review)\n",
    "print(\"Label\", first_label)\n",
    "print(\"Vectorized review\", vectorize_text(first_review, first_label))"
   ],
   "metadata": {
    "collapsed": false
   }
  },
  {
   "cell_type": "code",
   "execution_count": 14,
   "outputs": [
    {
     "name": "stdout",
     "output_type": "stream",
     "text": [
      "13 --->  this\n",
      " 10 --->  is\n",
      " 6 --->  a\n",
      "Vocabulary size: 10000\n"
     ]
    }
   ],
   "source": [
    "print(\"13 ---> \", vectorize_layer.get_vocabulary()[13])\n",
    "print(\" 10 ---> \", vectorize_layer.get_vocabulary()[10])\n",
    "print(\" 6 ---> \", vectorize_layer.get_vocabulary()[6])\n",
    "print('Vocabulary size: {}'.format(len(vectorize_layer.get_vocabulary())))"
   ],
   "metadata": {
    "collapsed": false
   }
  },
  {
   "cell_type": "code",
   "execution_count": 15,
   "outputs": [],
   "source": [
    "train_ds = raw_train_ds.map(vectorize_text)"
   ],
   "metadata": {
    "collapsed": false
   }
  },
  {
   "cell_type": "code",
   "execution_count": 16,
   "outputs": [],
   "source": [
    "embedding_dim = 16"
   ],
   "metadata": {
    "collapsed": false
   }
  },
  {
   "cell_type": "code",
   "execution_count": 17,
   "outputs": [
    {
     "name": "stdout",
     "output_type": "stream",
     "text": [
      "Model: \"sequential\"\n",
      "_________________________________________________________________\n",
      " Layer (type)                Output Shape              Param #   \n",
      "=================================================================\n",
      " embedding (Embedding)       (None, None, 16)          160016    \n",
      "                                                                 \n",
      " global_average_pooling1d (G  (None, 16)               0         \n",
      " lobalAveragePooling1D)                                          \n",
      "                                                                 \n",
      " dense (Dense)               (None, 5)                 85        \n",
      "                                                                 \n",
      "=================================================================\n",
      "Total params: 160,101\n",
      "Trainable params: 160,101\n",
      "Non-trainable params: 0\n",
      "_________________________________________________________________\n"
     ]
    }
   ],
   "source": [
    "model = tf.keras.Sequential([\n",
    "    layers.Embedding(max_features + 1, embedding_dim),\n",
    "    layers.GlobalAveragePooling1D(),\n",
    "    layers.Dense(5)])\n",
    "\n",
    "model.summary()"
   ],
   "metadata": {
    "collapsed": false
   }
  },
  {
   "cell_type": "code",
   "execution_count": 18,
   "outputs": [],
   "source": [
    "model.compile(loss=losses.SparseCategoricalCrossentropy(from_logits=True),\n",
    "              optimizer='adam',\n",
    "              metrics=['accuracy'])"
   ],
   "metadata": {
    "collapsed": false
   }
  },
  {
   "cell_type": "code",
   "execution_count": null,
   "outputs": [
    {
     "name": "stdout",
     "output_type": "stream",
     "text": [
      "Epoch 1/20\n",
      " 8891/27157 [========>.....................] - ETA: 10:09 - loss: 1.2531 - accuracy: 0.4399"
     ]
    }
   ],
   "source": [
    "epochs = 20\n",
    "history = model.fit(\n",
    "    train_ds,\n",
    "    epochs=epochs)"
   ],
   "metadata": {
    "collapsed": false
   }
  },
  {
   "cell_type": "code",
   "execution_count": null,
   "outputs": [],
   "source": [
    "export_model = tf.keras.Sequential([\n",
    "    vectorize_layer,\n",
    "    model,\n",
    "    layers.Activation('sigmoid')\n",
    "])\n",
    "\n",
    "export_model.compile(\n",
    "    loss=losses.SparseCategoricalCrossentropy(from_logits=False), optimizer=\"adam\", metrics=['accuracy']\n",
    ")"
   ],
   "metadata": {
    "collapsed": false
   }
  },
  {
   "cell_type": "code",
   "execution_count": null,
   "outputs": [],
   "source": [
    "df_test = pd.read_csv(\"data/base/goodreads_test.csv\", sep=\",\")\n",
    "\n",
    "df_test_modified = df_test.drop(columns=[\n",
    "    'user_id',\n",
    "    'book_id',\n",
    "    'review_id',\n",
    "    'date_added',\n",
    "    'date_updated',\n",
    "    'read_at',\n",
    "    'started_at',\n",
    "    'n_votes',\n",
    "    'n_comments'\n",
    "], inplace=False)\n"
   ],
   "metadata": {
    "collapsed": false
   }
  },
  {
   "cell_type": "code",
   "execution_count": null,
   "outputs": [],
   "source": [
    "# test_data_numpy = df_test.to_numpy()\n",
    "\n",
    "predicted_test_data = export_model.predict(df_test_modified)"
   ],
   "metadata": {
    "collapsed": false
   }
  },
  {
   "cell_type": "code",
   "execution_count": null,
   "outputs": [],
   "source": [
    "df_test.head()"
   ],
   "metadata": {
    "collapsed": false
   }
  },
  {
   "cell_type": "code",
   "execution_count": null,
   "outputs": [],
   "source": [
    "predicted_test_data_to_result_csv(df_test, predicted_test_data)"
   ],
   "metadata": {
    "collapsed": false
   }
  },
  {
   "cell_type": "markdown",
   "source": [
    "export_model.save(\"saved_model/embedding_model_1\")"
   ],
   "metadata": {
    "collapsed": false
   }
  }
 ],
 "metadata": {
  "kernelspec": {
   "display_name": "Python 3",
   "language": "python",
   "name": "python3"
  },
  "language_info": {
   "codemirror_mode": {
    "name": "ipython",
    "version": 2
   },
   "file_extension": ".py",
   "mimetype": "text/x-python",
   "name": "python",
   "nbconvert_exporter": "python",
   "pygments_lexer": "ipython2",
   "version": "2.7.6"
  }
 },
 "nbformat": 4,
 "nbformat_minor": 0
}
