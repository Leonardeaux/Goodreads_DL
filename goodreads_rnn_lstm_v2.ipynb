{
 "cells": [
  {
   "cell_type": "code",
   "execution_count": 57,
   "metadata": {},
   "outputs": [],
   "source": [
    "import matplotlib.pyplot as plt\n",
    "import os\n",
    "import re\n",
    "import string\n",
    "import tensorflow as tf\n",
    "import pandas as pd\n",
    "\n",
    "from utils import predicted_test_data_to_result_csv\n",
    "from keras import layers, losses, Input, Model\n",
    "from keras.layers import Dense, Embedding, Conv1D, MaxPooling1D, GlobalMaxPooling1D, BatchNormalization, Activation, Flatten, LSTM, SpatialDropout1D, Bidirectional\n",
    "from keras.losses import sparse_categorical_crossentropy\n",
    "from keras.metrics import sparse_categorical_accuracy\n",
    "from keras.optimizers import Adam, SGD"
   ]
  },
  {
   "cell_type": "code",
   "execution_count": 58,
   "metadata": {},
   "outputs": [],
   "source": [
    "os.environ['TF_CPP_MIN_LOG_LEVEL'] = '3'"
   ]
  },
  {
   "cell_type": "code",
   "execution_count": 59,
   "metadata": {},
   "outputs": [
    {
     "name": "stdout",
     "output_type": "stream",
     "text": [
      "2.10.1\n",
      "[PhysicalDevice(name='/physical_device:GPU:0', device_type='GPU')]\n"
     ]
    }
   ],
   "source": [
    "print(tf.__version__)\n",
    "print(tf.config.list_physical_devices('GPU'))"
   ]
  },
  {
   "cell_type": "code",
   "execution_count": 60,
   "outputs": [],
   "source": [
    "train_path = \"data/base/goodreads_train.csv\"\n",
    "result_path = \"data/base/goodreads_test.csv\"\n",
    "frac_ratio = 0.2"
   ],
   "metadata": {
    "collapsed": false
   }
  },
  {
   "cell_type": "code",
   "execution_count": 61,
   "outputs": [],
   "source": [
    "max_features = 1000  # Maximum vocab size.\n",
    "sequence_length = 200"
   ],
   "metadata": {
    "collapsed": false
   }
  },
  {
   "cell_type": "code",
   "execution_count": 62,
   "metadata": {},
   "outputs": [],
   "source": [
    "df = pd.read_csv(train_path, sep=\",\")"
   ]
  },
  {
   "cell_type": "code",
   "execution_count": 63,
   "outputs": [],
   "source": [
    "index = df[(df['rating'] == 0)].index\n",
    "df.drop(index, inplace=True)\n",
    "df.reset_index(inplace=True, drop=True)"
   ],
   "metadata": {
    "collapsed": false
   }
  },
  {
   "cell_type": "code",
   "execution_count": 64,
   "outputs": [],
   "source": [
    "x_train = df.sample(frac=frac_ratio)\n",
    "x_val = df.drop(x_train.index)"
   ],
   "metadata": {
    "collapsed": false
   }
  },
  {
   "cell_type": "code",
   "execution_count": 65,
   "outputs": [],
   "source": [
    "y_train = x_train.pop('rating')\n",
    "y_train = y_train - 1\n",
    "\n",
    "y_val = x_val.pop('rating')\n",
    "y_val = y_val - 1"
   ],
   "metadata": {
    "collapsed": false
   }
  },
  {
   "cell_type": "code",
   "execution_count": 66,
   "outputs": [],
   "source": [
    "x_train = x_train[\"review_text\"]\n",
    "x_val = x_val[\"review_text\"]"
   ],
   "metadata": {
    "collapsed": false
   }
  },
  {
   "cell_type": "code",
   "execution_count": 67,
   "outputs": [],
   "source": [
    "raw_train_dataset = tf.data.Dataset.from_tensor_slices((x_train, y_train)).shuffle(10, reshuffle_each_iteration=False)\n",
    "raw_val_dataset = tf.data.Dataset.from_tensor_slices((x_val, y_val)).shuffle(10, reshuffle_each_iteration=False)"
   ],
   "metadata": {
    "collapsed": false
   }
  },
  {
   "cell_type": "code",
   "execution_count": 68,
   "metadata": {},
   "outputs": [],
   "source": [
    "def custom_standardization(input_data):\n",
    "    lowercase = tf.strings.lower(input_data)\n",
    "    stripped_spoilers = tf.strings.regex_replace(lowercase, '\\*\\* spoiler alert \\*\\*', ' ')\n",
    "    return tf.strings.regex_replace(stripped_spoilers,\n",
    "                                    '[%s]' % re.escape(string.punctuation),\n",
    "                                    '')"
   ]
  },
  {
   "cell_type": "code",
   "execution_count": 69,
   "outputs": [],
   "source": [
    "vectorize_layer = tf.keras.layers.TextVectorization(\n",
    "    standardize=custom_standardization,\n",
    "    max_tokens=max_features,\n",
    "    output_mode='int',\n",
    "    output_sequence_length=sequence_length)"
   ],
   "metadata": {
    "collapsed": false
   }
  },
  {
   "cell_type": "code",
   "execution_count": 70,
   "outputs": [],
   "source": [
    "epochs = 30\n",
    "model_nb = 3\n",
    "\n",
    "embedding_dim = 100\n",
    "learning_rate = 0.01\n",
    "batch_size = 3200\n",
    "dropout_rate = 0.2\n",
    "hidden_layer = 0"
   ],
   "metadata": {
    "collapsed": false
   }
  },
  {
   "cell_type": "code",
   "execution_count": 71,
   "outputs": [],
   "source": [
    "raw_train_dataset = raw_train_dataset.batch(batch_size=batch_size)\n",
    "raw_val_dataset = raw_val_dataset.batch(batch_size=batch_size)"
   ],
   "metadata": {
    "collapsed": false
   }
  },
  {
   "cell_type": "code",
   "execution_count": 72,
   "outputs": [],
   "source": [
    "# Make a text-only dataset (without labels), then call adapt\n",
    "train_text = raw_train_dataset.map(lambda x, y: x)\n",
    "vectorize_layer.adapt(train_text)\n",
    "\n",
    "val_text = raw_val_dataset.map(lambda x, y: x)\n",
    "vectorize_layer.adapt(val_text)"
   ],
   "metadata": {
    "collapsed": false
   }
  },
  {
   "cell_type": "code",
   "execution_count": 73,
   "outputs": [],
   "source": [
    "def vectorize_text(text, label):\n",
    "    text = tf.expand_dims(text, -1)\n",
    "    return vectorize_layer(text), label"
   ],
   "metadata": {
    "collapsed": false
   }
  },
  {
   "cell_type": "code",
   "execution_count": 74,
   "outputs": [],
   "source": [
    "train_ds = raw_train_dataset.map(vectorize_text)\n",
    "val_ds = raw_val_dataset.map(vectorize_text)"
   ],
   "metadata": {
    "collapsed": false
   }
  },
  {
   "cell_type": "code",
   "execution_count": 75,
   "outputs": [],
   "source": [
    "AUTOTUNE = tf.data.AUTOTUNE\n",
    "\n",
    "train_ds = train_ds.cache().prefetch(buffer_size=AUTOTUNE)\n",
    "val_ds = val_ds.cache().prefetch(buffer_size=AUTOTUNE)"
   ],
   "metadata": {
    "collapsed": false
   }
  },
  {
   "cell_type": "code",
   "execution_count": 76,
   "outputs": [
    {
     "name": "stdout",
     "output_type": "stream",
     "text": [
      "WARNING:tensorflow:Layer lstm_2 will not use cuDNN kernels since it doesn't meet the criteria. It will use a generic GPU kernel as fallback when running on GPU.\n",
      "Model: \"model_2\"\n",
      "_________________________________________________________________\n",
      " Layer (type)                Output Shape              Param #   \n",
      "=================================================================\n",
      " input_3 (InputLayer)        [(None, 200)]             0         \n",
      "                                                                 \n",
      " embedding_2 (Embedding)     (None, 200, 100)          100100    \n",
      "                                                                 \n",
      " spatial_dropout1d_2 (Spatia  (None, 200, 100)         0         \n",
      " lDropout1D)                                                     \n",
      "                                                                 \n",
      " lstm_2 (LSTM)               (None, 100)               80400     \n",
      "                                                                 \n",
      " dense_2 (Dense)             (None, 5)                 505       \n",
      "                                                                 \n",
      "=================================================================\n",
      "Total params: 181,005\n",
      "Trainable params: 181,005\n",
      "Non-trainable params: 0\n",
      "_________________________________________________________________\n"
     ]
    }
   ],
   "source": [
    "input_text = Input(shape=(sequence_length,))\n",
    "\n",
    "embedding_layer = Embedding(max_features + 1, embedding_dim, input_length=sequence_length)(input_text)\n",
    "\n",
    "spatial_dropout = SpatialDropout1D(dropout_rate)(embedding_layer)\n",
    "# x = embedding_layer\n",
    "# for i in range(hidden_layer):\n",
    "#     x = SpatialDropout1D(dropout_rate)(x)\n",
    "#     x = Bidirectional(LSTM(embedding_dim, dropout=dropout_rate, recurrent_dropout=dropout_rate, return_sequences=True))(x)\n",
    "#\n",
    "# lstm = Bidirectional(LSTM(25, return_sequences=False))(x)\n",
    "\n",
    "lstm = LSTM(embedding_dim, dropout=dropout_rate, recurrent_dropout=dropout_rate)(spatial_dropout)\n",
    "\n",
    "# global_max_pooling = GlobalMaxPooling1D()(lstm)\n",
    "#\n",
    "# dense = Dense(512, activation='relu')(lstm)\n",
    "\n",
    "output = Dense(5, activation='softmax')(lstm)\n",
    "\n",
    "rnn_model = Model(input_text, output)\n",
    "\n",
    "rnn_model.summary()"
   ],
   "metadata": {
    "collapsed": false
   }
  },
  {
   "cell_type": "code",
   "execution_count": 77,
   "outputs": [],
   "source": [
    "rnn_model.compile(loss=sparse_categorical_crossentropy,\n",
    "                  optimizer=Adam(learning_rate=learning_rate),\n",
    "                  metrics=sparse_categorical_accuracy)"
   ],
   "metadata": {
    "collapsed": false
   }
  },
  {
   "cell_type": "code",
   "execution_count": 78,
   "outputs": [],
   "source": [
    "exp_name = f'rnn_model_{model_nb}_hidden_layers_{hidden_layer}_lr_{learning_rate}_bs_{batch_size}_dr_{dropout_rate}'"
   ],
   "metadata": {
    "collapsed": false
   }
  },
  {
   "cell_type": "code",
   "execution_count": 79,
   "outputs": [
    {
     "name": "stdout",
     "output_type": "stream",
     "text": [
      "Epoch 1/30\n",
      "55/55 [==============================] - 108s 2s/step - loss: 1.3949 - sparse_categorical_accuracy: 0.3558 - val_loss: 1.3791 - val_sparse_categorical_accuracy: 0.3623\n",
      "Epoch 2/30\n",
      "55/55 [==============================] - 108s 2s/step - loss: 1.3710 - sparse_categorical_accuracy: 0.3639 - val_loss: 1.3840 - val_sparse_categorical_accuracy: 0.3616\n",
      "Epoch 3/30\n",
      "55/55 [==============================] - 104s 2s/step - loss: 1.3789 - sparse_categorical_accuracy: 0.3603 - val_loss: 1.3833 - val_sparse_categorical_accuracy: 0.3604\n",
      "Epoch 4/30\n",
      "55/55 [==============================] - 106s 2s/step - loss: 1.3522 - sparse_categorical_accuracy: 0.3788 - val_loss: 1.2908 - val_sparse_categorical_accuracy: 0.4218\n",
      "Epoch 5/30\n",
      "55/55 [==============================] - 107s 2s/step - loss: 1.2457 - sparse_categorical_accuracy: 0.4526 - val_loss: 1.2008 - val_sparse_categorical_accuracy: 0.4733\n",
      "Epoch 6/30\n",
      "55/55 [==============================] - 108s 2s/step - loss: 1.1657 - sparse_categorical_accuracy: 0.4908 - val_loss: 1.1452 - val_sparse_categorical_accuracy: 0.4955\n",
      "Epoch 7/30\n",
      "55/55 [==============================] - 105s 2s/step - loss: 1.1030 - sparse_categorical_accuracy: 0.5113 - val_loss: 1.0699 - val_sparse_categorical_accuracy: 0.5249\n",
      "Epoch 8/30\n",
      "55/55 [==============================] - 107s 2s/step - loss: 1.0434 - sparse_categorical_accuracy: 0.5383 - val_loss: 1.0406 - val_sparse_categorical_accuracy: 0.5409\n",
      "Epoch 9/30\n",
      "55/55 [==============================] - 104s 2s/step - loss: 1.0143 - sparse_categorical_accuracy: 0.5512 - val_loss: 1.0163 - val_sparse_categorical_accuracy: 0.5496\n",
      "Epoch 10/30\n",
      "55/55 [==============================] - 104s 2s/step - loss: 0.9942 - sparse_categorical_accuracy: 0.5594 - val_loss: 1.0039 - val_sparse_categorical_accuracy: 0.5557\n",
      "Epoch 11/30\n",
      "55/55 [==============================] - 104s 2s/step - loss: 0.9798 - sparse_categorical_accuracy: 0.5649 - val_loss: 0.9977 - val_sparse_categorical_accuracy: 0.5590\n",
      "Epoch 12/30\n",
      "55/55 [==============================] - 104s 2s/step - loss: 0.9668 - sparse_categorical_accuracy: 0.5715 - val_loss: 0.9935 - val_sparse_categorical_accuracy: 0.5613\n",
      "Epoch 13/30\n",
      "55/55 [==============================] - 106s 2s/step - loss: 0.9580 - sparse_categorical_accuracy: 0.5764 - val_loss: 0.9916 - val_sparse_categorical_accuracy: 0.5629\n",
      "Epoch 14/30\n",
      "55/55 [==============================] - 106s 2s/step - loss: 0.9492 - sparse_categorical_accuracy: 0.5794 - val_loss: 0.9875 - val_sparse_categorical_accuracy: 0.5648\n",
      "Epoch 15/30\n",
      "55/55 [==============================] - 106s 2s/step - loss: 0.9433 - sparse_categorical_accuracy: 0.5822 - val_loss: 0.9920 - val_sparse_categorical_accuracy: 0.5645\n",
      "Epoch 16/30\n",
      "55/55 [==============================] - 106s 2s/step - loss: 0.9373 - sparse_categorical_accuracy: 0.5848 - val_loss: 0.9870 - val_sparse_categorical_accuracy: 0.5656\n",
      "Epoch 17/30\n",
      "55/55 [==============================] - 107s 2s/step - loss: 0.9319 - sparse_categorical_accuracy: 0.5875 - val_loss: 0.9815 - val_sparse_categorical_accuracy: 0.5673\n",
      "Epoch 18/30\n",
      "55/55 [==============================] - 106s 2s/step - loss: 0.9266 - sparse_categorical_accuracy: 0.5893 - val_loss: 0.9781 - val_sparse_categorical_accuracy: 0.5683\n",
      "Epoch 19/30\n",
      "55/55 [==============================] - 105s 2s/step - loss: 0.9206 - sparse_categorical_accuracy: 0.5920 - val_loss: 0.9727 - val_sparse_categorical_accuracy: 0.5700\n",
      "Epoch 20/30\n",
      "55/55 [==============================] - 105s 2s/step - loss: 0.9173 - sparse_categorical_accuracy: 0.5937 - val_loss: 0.9755 - val_sparse_categorical_accuracy: 0.5703\n",
      "Epoch 21/30\n",
      "55/55 [==============================] - 105s 2s/step - loss: 0.9128 - sparse_categorical_accuracy: 0.5957 - val_loss: 0.9735 - val_sparse_categorical_accuracy: 0.5696\n",
      "Epoch 22/30\n",
      "55/55 [==============================] - 105s 2s/step - loss: 0.9097 - sparse_categorical_accuracy: 0.5979 - val_loss: 0.9736 - val_sparse_categorical_accuracy: 0.5711\n",
      "Epoch 23/30\n",
      "55/55 [==============================] - 105s 2s/step - loss: 0.9067 - sparse_categorical_accuracy: 0.5988 - val_loss: 0.9728 - val_sparse_categorical_accuracy: 0.5713\n",
      "Epoch 24/30\n",
      "55/55 [==============================] - 105s 2s/step - loss: 0.9055 - sparse_categorical_accuracy: 0.5989 - val_loss: 0.9728 - val_sparse_categorical_accuracy: 0.5709\n",
      "Epoch 25/30\n",
      "55/55 [==============================] - 105s 2s/step - loss: 0.9023 - sparse_categorical_accuracy: 0.6015 - val_loss: 0.9740 - val_sparse_categorical_accuracy: 0.5720\n",
      "Epoch 26/30\n",
      "55/55 [==============================] - 105s 2s/step - loss: 0.8990 - sparse_categorical_accuracy: 0.6023 - val_loss: 0.9734 - val_sparse_categorical_accuracy: 0.5715\n",
      "Epoch 27/30\n",
      "55/55 [==============================] - 105s 2s/step - loss: 0.8965 - sparse_categorical_accuracy: 0.6032 - val_loss: 0.9733 - val_sparse_categorical_accuracy: 0.5729\n",
      "Epoch 28/30\n",
      "55/55 [==============================] - 105s 2s/step - loss: 0.8940 - sparse_categorical_accuracy: 0.6040 - val_loss: 0.9738 - val_sparse_categorical_accuracy: 0.5720\n",
      "Epoch 29/30\n",
      "55/55 [==============================] - 105s 2s/step - loss: 0.8937 - sparse_categorical_accuracy: 0.6039 - val_loss: 0.9782 - val_sparse_categorical_accuracy: 0.5715\n",
      "Epoch 30/30\n",
      "55/55 [==============================] - 105s 2s/step - loss: 0.8973 - sparse_categorical_accuracy: 0.6036 - val_loss: 0.9733 - val_sparse_categorical_accuracy: 0.5718\n"
     ]
    },
    {
     "data": {
      "text/plain": "<keras.callbacks.History at 0x1a7976f1ae0>"
     },
     "execution_count": 79,
     "metadata": {},
     "output_type": "execute_result"
    }
   ],
   "source": [
    "rnn_model.fit(train_ds,\n",
    "              validation_data=val_ds,\n",
    "              epochs=epochs,\n",
    "              callbacks=[tf.keras.callbacks.TensorBoard(\"logs/rnn/\" + exp_name)])"
   ],
   "metadata": {
    "collapsed": false
   }
  },
  {
   "cell_type": "code",
   "execution_count": 80,
   "outputs": [],
   "source": [
    "df_test = pd.read_csv(result_path, sep=\",\")\n",
    "\n",
    "df_test_modified = df_test.drop(columns=[\n",
    "    'user_id',\n",
    "    'book_id',\n",
    "    'review_id',\n",
    "    'date_added',\n",
    "    'date_updated',\n",
    "    'read_at',\n",
    "    'started_at',\n",
    "    'n_votes',\n",
    "    'n_comments'\n",
    "], inplace=False)"
   ],
   "metadata": {
    "collapsed": false
   }
  },
  {
   "cell_type": "code",
   "execution_count": 81,
   "outputs": [],
   "source": [
    "export_model = tf.keras.Sequential([\n",
    "    vectorize_layer,\n",
    "    rnn_model\n",
    "])"
   ],
   "metadata": {
    "collapsed": false
   }
  },
  {
   "cell_type": "code",
   "execution_count": 82,
   "outputs": [
    {
     "name": "stdout",
     "output_type": "stream",
     "text": [
      "14939/14939 [==============================] - 2565s 172ms/step\n"
     ]
    }
   ],
   "source": [
    "predicted_test_data = export_model.predict(df_test_modified)"
   ],
   "metadata": {
    "collapsed": false
   }
  },
  {
   "cell_type": "code",
   "execution_count": 83,
   "outputs": [
    {
     "data": {
      "text/plain": "                            user_id   book_id  \\\n0  b9450d1c1f97f891c392b1105959b56e   7092507   \n1  b9450d1c1f97f891c392b1105959b56e   5576654   \n2  b9450d1c1f97f891c392b1105959b56e  15754052   \n3  b9450d1c1f97f891c392b1105959b56e     17020   \n4  b9450d1c1f97f891c392b1105959b56e  12551082   \n\n                          review_id  \\\n0  5c4df7e70e9b438c761f07a4620ccb7c   \n1  8eaeaf13213eeb16ad879a2a2591bbe5   \n2  dce649b733c153ba5363a0413cac988f   \n3  8a46df0bb997269d6834f9437a4b0a77   \n4  d11d3091e22f1cf3cb865598de197599   \n\n                                         review_text  \\\n0  ** spoiler alert ** \\n This is definitely one ...   \n1  ** spoiler alert ** \\n \"You are what you drink...   \n2  Roar is one of my favorite characters in Under...   \n3  ** spoiler alert ** \\n If you feel like travel...   \n4  3.5 stars \\n I read and enjoyed the first two ...   \n\n                       date_added                    date_updated  \\\n0  Sat Nov 10 06:06:13 -0800 2012  Sun Nov 11 05:38:36 -0800 2012   \n1  Fri Nov 09 21:55:16 -0800 2012  Sat Nov 10 05:41:49 -0800 2012   \n2  Fri Nov 09 00:25:50 -0800 2012  Sat Nov 10 06:14:10 -0800 2012   \n3  Thu Nov 01 00:28:39 -0700 2012  Sat Nov 03 11:35:22 -0700 2012   \n4  Thu Oct 18 00:57:00 -0700 2012  Mon Apr 01 23:00:51 -0700 2013   \n\n                          read_at                      started_at  n_votes  \\\n0  Sun Nov 11 05:38:36 -0800 2012  Sat Nov 10 00:00:00 -0800 2012        1   \n1  Sat Nov 10 05:41:49 -0800 2012  Fri Nov 09 00:00:00 -0800 2012        1   \n2  Sat Nov 10 06:14:10 -0800 2012  Fri Nov 09 00:00:00 -0800 2012        0   \n3  Sat Nov 03 11:35:22 -0700 2012  Thu Nov 01 00:00:00 -0700 2012        0   \n4  Sat Mar 30 00:00:00 -0700 2013  Fri Mar 29 00:00:00 -0700 2013        0   \n\n   n_comments  \n0           0  \n1           0  \n2           0  \n3           0  \n4           0  ",
      "text/html": "<div>\n<style scoped>\n    .dataframe tbody tr th:only-of-type {\n        vertical-align: middle;\n    }\n\n    .dataframe tbody tr th {\n        vertical-align: top;\n    }\n\n    .dataframe thead th {\n        text-align: right;\n    }\n</style>\n<table border=\"1\" class=\"dataframe\">\n  <thead>\n    <tr style=\"text-align: right;\">\n      <th></th>\n      <th>user_id</th>\n      <th>book_id</th>\n      <th>review_id</th>\n      <th>review_text</th>\n      <th>date_added</th>\n      <th>date_updated</th>\n      <th>read_at</th>\n      <th>started_at</th>\n      <th>n_votes</th>\n      <th>n_comments</th>\n    </tr>\n  </thead>\n  <tbody>\n    <tr>\n      <th>0</th>\n      <td>b9450d1c1f97f891c392b1105959b56e</td>\n      <td>7092507</td>\n      <td>5c4df7e70e9b438c761f07a4620ccb7c</td>\n      <td>** spoiler alert ** \\n This is definitely one ...</td>\n      <td>Sat Nov 10 06:06:13 -0800 2012</td>\n      <td>Sun Nov 11 05:38:36 -0800 2012</td>\n      <td>Sun Nov 11 05:38:36 -0800 2012</td>\n      <td>Sat Nov 10 00:00:00 -0800 2012</td>\n      <td>1</td>\n      <td>0</td>\n    </tr>\n    <tr>\n      <th>1</th>\n      <td>b9450d1c1f97f891c392b1105959b56e</td>\n      <td>5576654</td>\n      <td>8eaeaf13213eeb16ad879a2a2591bbe5</td>\n      <td>** spoiler alert ** \\n \"You are what you drink...</td>\n      <td>Fri Nov 09 21:55:16 -0800 2012</td>\n      <td>Sat Nov 10 05:41:49 -0800 2012</td>\n      <td>Sat Nov 10 05:41:49 -0800 2012</td>\n      <td>Fri Nov 09 00:00:00 -0800 2012</td>\n      <td>1</td>\n      <td>0</td>\n    </tr>\n    <tr>\n      <th>2</th>\n      <td>b9450d1c1f97f891c392b1105959b56e</td>\n      <td>15754052</td>\n      <td>dce649b733c153ba5363a0413cac988f</td>\n      <td>Roar is one of my favorite characters in Under...</td>\n      <td>Fri Nov 09 00:25:50 -0800 2012</td>\n      <td>Sat Nov 10 06:14:10 -0800 2012</td>\n      <td>Sat Nov 10 06:14:10 -0800 2012</td>\n      <td>Fri Nov 09 00:00:00 -0800 2012</td>\n      <td>0</td>\n      <td>0</td>\n    </tr>\n    <tr>\n      <th>3</th>\n      <td>b9450d1c1f97f891c392b1105959b56e</td>\n      <td>17020</td>\n      <td>8a46df0bb997269d6834f9437a4b0a77</td>\n      <td>** spoiler alert ** \\n If you feel like travel...</td>\n      <td>Thu Nov 01 00:28:39 -0700 2012</td>\n      <td>Sat Nov 03 11:35:22 -0700 2012</td>\n      <td>Sat Nov 03 11:35:22 -0700 2012</td>\n      <td>Thu Nov 01 00:00:00 -0700 2012</td>\n      <td>0</td>\n      <td>0</td>\n    </tr>\n    <tr>\n      <th>4</th>\n      <td>b9450d1c1f97f891c392b1105959b56e</td>\n      <td>12551082</td>\n      <td>d11d3091e22f1cf3cb865598de197599</td>\n      <td>3.5 stars \\n I read and enjoyed the first two ...</td>\n      <td>Thu Oct 18 00:57:00 -0700 2012</td>\n      <td>Mon Apr 01 23:00:51 -0700 2013</td>\n      <td>Sat Mar 30 00:00:00 -0700 2013</td>\n      <td>Fri Mar 29 00:00:00 -0700 2013</td>\n      <td>0</td>\n      <td>0</td>\n    </tr>\n  </tbody>\n</table>\n</div>"
     },
     "execution_count": 83,
     "metadata": {},
     "output_type": "execute_result"
    }
   ],
   "source": [
    "df_test.head()"
   ],
   "metadata": {
    "collapsed": false
   }
  },
  {
   "cell_type": "code",
   "execution_count": 84,
   "outputs": [],
   "source": [
    "predicted_test_data_to_result_csv(df_test, predicted_test_data, exp_name)"
   ],
   "metadata": {
    "collapsed": false
   }
  },
  {
   "cell_type": "code",
   "execution_count": 84,
   "outputs": [],
   "source": [],
   "metadata": {
    "collapsed": false
   }
  }
 ],
 "metadata": {
  "kernelspec": {
   "display_name": "Python 3 (ipykernel)",
   "language": "python",
   "name": "python3"
  },
  "language_info": {
   "codemirror_mode": {
    "name": "ipython",
    "version": 3
   },
   "file_extension": ".py",
   "mimetype": "text/x-python",
   "name": "python",
   "nbconvert_exporter": "python",
   "pygments_lexer": "ipython3",
   "version": "3.10.8"
  }
 },
 "nbformat": 4,
 "nbformat_minor": 1
}
