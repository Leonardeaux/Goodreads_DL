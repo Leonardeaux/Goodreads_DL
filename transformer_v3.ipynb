{
 "cells": [
  {
   "cell_type": "code",
   "execution_count": null,
   "metadata": {
    "collapsed": true
   },
   "outputs": [],
   "source": [
    "import os\n",
    "\n",
    "os.environ['TF_CPP_MIN_LOG_LEVEL'] = '3'"
   ]
  },
  {
   "cell_type": "code",
   "execution_count": null,
   "outputs": [],
   "source": [
    "import pandas as pd\n",
    "\n",
    "train_path = \"data/base/goodreads_train.csv\"\n",
    "result_path = \"data/base/goodreads_test.csv\"\n",
    "\n",
    "df = pd.read_csv(train_path)\n",
    "\n",
    "df_train = df.drop(columns=['user_id', 'book_id', 'date_added', 'date_updated',\n",
    "                            'read_at', 'started_at', 'n_votes', 'n_comments'])"
   ],
   "metadata": {
    "collapsed": false
   }
  },
  {
   "cell_type": "code",
   "execution_count": null,
   "outputs": [],
   "source": [
    "import re\n",
    "import nltk\n",
    "from nltk.corpus import stopwords\n",
    "from nltk.stem import WordNetLemmatizer\n",
    "\n",
    "stopwords_english = stopwords.words('english')\n",
    "\n",
    "nltk.download('wordnet')\n",
    "\n",
    "lemmatizer = WordNetLemmatizer()\n",
    "\n",
    "def preprocess_review(text):\n",
    "    text = text.lower()\n",
    "\n",
    "    text = re.sub(r'http\\S+', '', text)\n",
    "\n",
    "    text = re.sub(r'\\d+', '', text)\n",
    "\n",
    "    text = re.sub(r'[^\\w\\s]', '', text)\n",
    "\n",
    "    text = re.sub(r'(view spoiler|hide spoiler)', '', text)\n",
    "\n",
    "    tokens = text.split()\n",
    "\n",
    "    clean_tokens = [WordNetLemmatizer().lemmatize(tok) for tok in tokens if\n",
    "                    tok not in stopwords_english and len(tok) > 1]\n",
    "    # clean_tokens = [tok for tok in tokens if tok not in stopwords_english and len(tok) > 1]\n",
    "\n",
    "    clean_text = ' '.join(clean_tokens)\n",
    "\n",
    "    return clean_text"
   ],
   "metadata": {
    "collapsed": false
   }
  },
  {
   "cell_type": "code",
   "execution_count": null,
   "outputs": [],
   "source": [
    "%%time\n",
    "\n",
    "df_train[\"clean_text\"] = df_train[\"review_text\"].apply(preprocess_review)"
   ],
   "metadata": {
    "collapsed": false
   }
  },
  {
   "cell_type": "code",
   "execution_count": null,
   "outputs": [],
   "source": [
    "from sklearn.model_selection import train_test_split\n",
    "\n",
    "x_train = df_train[\"clean_text\"].values\n",
    "y_train = df_train[\"rating\"].values\n",
    "\n",
    "x_tr, x_va, y_tr, y_va = train_test_split(x_train, y_train, test_size=0.2, random_state=0)\n",
    "\n",
    "print(\"Training data:\", x_tr.shape, y_tr.shape)\n",
    "print(\"Validation data:\", x_va.shape, y_va.shape)"
   ],
   "metadata": {
    "collapsed": false
   }
  },
  {
   "cell_type": "code",
   "execution_count": null,
   "outputs": [],
   "source": [
    "VOCAB_SIZE = 20000\n",
    "MAX_SEQ_LENGTH = 250\n",
    "EMBEDDING_DIMS = 64"
   ],
   "metadata": {
    "collapsed": false
   }
  },
  {
   "cell_type": "code",
   "execution_count": null,
   "outputs": [],
   "source": [
    "%%time\n",
    "\n",
    "from keras.preprocessing.text import Tokenizer\n",
    "from tensorflow.keras.utils import pad_sequences\n",
    "\n",
    "tokenizer = Tokenizer(num_words=VOCAB_SIZE)\n",
    "tokenizer.fit_on_texts(x_tr)\n",
    "\n",
    "\n",
    "\n",
    "x_tr_seq = tokenizer.texts_to_sequences(x_tr)\n",
    "x_tr_seq = pad_sequences(x_tr_seq, maxlen=MAX_SEQ_LENGTH)\n",
    "\n",
    "x_va_seq = tokenizer.texts_to_sequences(x_va)\n",
    "x_va_seq = pad_sequences(x_va_seq, maxlen=MAX_SEQ_LENGTH)"
   ],
   "metadata": {
    "collapsed": false
   }
  },
  {
   "cell_type": "code",
   "execution_count": null,
   "outputs": [],
   "source": [
    "from keras.models import Sequential, Model\n",
    "from keras.layers import Embedding, Conv1D, MaxPooling1D, LSTM, Bidirectional, Dense, BatchNormalization, Dropout, MultiHeadAttention, LayerNormalization,Input, GlobalAveragePooling1D\n",
    "from keras.losses import SparseCategoricalCrossentropy\n",
    "from keras.optimizers import Adam\n",
    "\n",
    "def transformer_encoder(inputs, head_size, num_heads, ff_dim, dropout=0):\n",
    "    # Normalization and Attention\n",
    "    x = LayerNormalization(epsilon=1e-6)(inputs)\n",
    "    x = MultiHeadAttention(key_dim=head_size, num_heads=num_heads, dropout=dropout)(x, x)\n",
    "    x = Dropout(dropout)(x)\n",
    "    res = x + inputs\n",
    "\n",
    "    # Feed Forward Part\n",
    "    x = LayerNormalization(epsilon=1e-6)(res)\n",
    "    x = Conv1D(filters=ff_dim, kernel_size=1, activation=\"relu\")(x)\n",
    "    x = Dropout(dropout)(x)\n",
    "    x = Conv1D(filters=inputs.shape[-1], kernel_size=1)(x)\n",
    "    return x + res\n",
    "\n",
    "def transformer_test() -> Sequential:\n",
    "    inputs = Input(shape=(MAX_SEQ_LENGTH,))\n",
    "    x = Embedding(VOCAB_SIZE + 1, EMBEDDING_DIMS)(inputs)\n",
    "    for _ in range(2):\n",
    "        x = transformer_encoder(x, 32, 2, 32, 0)\n",
    "    x = GlobalAveragePooling1D(data_format=\"channels_first\")(x)\n",
    "    for dim in [32]:\n",
    "        x = Dense(dim, activation=\"relu\")(x)\n",
    "        x = Dropout(0.1)(x)\n",
    "    outputs = Dense(6, activation=\"softmax\")(x)\n",
    "    model = Model(inputs, outputs)\n",
    "\n",
    "    model.compile(\n",
    "        optimizer=Adam(1e-2),\n",
    "        loss=SparseCategoricalCrossentropy(),\n",
    "        metrics=[\"accuracy\"])\n",
    "    return model"
   ],
   "metadata": {
    "collapsed": false
   }
  },
  {
   "cell_type": "code",
   "execution_count": null,
   "outputs": [],
   "source": [
    "from keras.callbacks import EarlyStopping\n",
    "from keras.callbacks import TensorBoard\n",
    "\n",
    "earlystopping_cb = EarlyStopping(patience=6, restore_best_weights=True)\n",
    "tensorboard = TensorBoard(\"logs/tests/kaggle_1\")"
   ],
   "metadata": {
    "collapsed": false
   }
  },
  {
   "cell_type": "code",
   "execution_count": null,
   "outputs": [],
   "source": [
    "%%time\n",
    "\n",
    "transformer_model = transformer_test()\n",
    "\n",
    "transformer_model.fit(x_tr_seq,\n",
    "                    y_tr,\n",
    "                    validation_data=(x_va_seq, y_va),\n",
    "                    callbacks=[earlystopping_cb, tensorboard],\n",
    "                    batch_size=800,\n",
    "                    epochs=50,\n",
    "                    verbose=1,\n",
    "                    )"
   ],
   "metadata": {
    "collapsed": false
   }
  },
  {
   "cell_type": "code",
   "execution_count": null,
   "outputs": [],
   "source": [
    "df_test = pd.read_csv(result_path, sep=\",\")\n",
    "\n",
    "df_test.sample()"
   ],
   "metadata": {
    "collapsed": false
   }
  },
  {
   "cell_type": "code",
   "execution_count": null,
   "outputs": [],
   "source": [
    "%%time\n",
    "\n",
    "df_test = df_test.drop(columns=['user_id', 'book_id', 'date_added', 'date_updated',\n",
    "                                'read_at', 'started_at', 'n_votes', 'n_comments'])\n",
    "\n",
    "df_test[\"clean_text\"] = df_test[\"review_text\"].apply(preprocess_review)\n",
    "\n",
    "df_test = df_test.drop(columns=['review_text'])\n",
    "\n",
    "df_test.head()"
   ],
   "metadata": {
    "collapsed": false
   }
  },
  {
   "cell_type": "code",
   "execution_count": null,
   "outputs": [],
   "source": [
    "x_te = df_test[\"clean_text\"].values\n",
    "\n",
    "x_te_seq = tokenizer.texts_to_sequences(x_te)\n",
    "x_te_seq = pad_sequences(x_te_seq, maxlen=MAX_SEQ_LENGTH)"
   ],
   "metadata": {
    "collapsed": false
   }
  },
  {
   "cell_type": "code",
   "execution_count": null,
   "outputs": [],
   "source": [
    "import numpy as np\n",
    "\n",
    "predictions = [np.argmax(i) for i in transformer_model.predict(x_te_seq)]\n",
    "\n",
    "# Create a new DataFrame to merge review ids and the model predictions\n",
    "submission = pd.DataFrame({'review_id': df_test.review_id, 'rating': predictions})\n",
    "\n",
    "# Check few random entries\n",
    "submission.sample(10)"
   ],
   "metadata": {
    "collapsed": false
   }
  },
  {
   "cell_type": "code",
   "execution_count": null,
   "outputs": [],
   "source": [
    "submission.to_csv(\"res_files/submission.csv\", index=None)"
   ],
   "metadata": {
    "collapsed": false
   }
  },
  {
   "cell_type": "code",
   "execution_count": null,
   "outputs": [],
   "source": [
    "test_loss, test_acc = transformer_model.evaluate(x_va_seq,y_va)\n",
    "\n",
    "print('Validation loss:', test_loss)\n",
    "print('Validation accuracy:', test_acc)"
   ],
   "metadata": {
    "collapsed": false
   }
  },
  {
   "cell_type": "markdown",
   "source": [
    "Validation loss: 1.0374062061309814\n",
    "Validation accuracy: 0.5549389123916626"
   ],
   "metadata": {
    "collapsed": false
   }
  }
 ],
 "metadata": {
  "kernelspec": {
   "display_name": "Python 3",
   "language": "python",
   "name": "python3"
  },
  "language_info": {
   "codemirror_mode": {
    "name": "ipython",
    "version": 2
   },
   "file_extension": ".py",
   "mimetype": "text/x-python",
   "name": "python",
   "nbconvert_exporter": "python",
   "pygments_lexer": "ipython2",
   "version": "2.7.6"
  }
 },
 "nbformat": 4,
 "nbformat_minor": 0
}
