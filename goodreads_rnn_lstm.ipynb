{
 "cells": [
  {
   "cell_type": "code",
   "execution_count": 1,
   "metadata": {},
   "outputs": [],
   "source": [
    "import matplotlib.pyplot as plt\n",
    "import os\n",
    "import re\n",
    "import string\n",
    "import tensorflow as tf\n",
    "import pandas as pd\n",
    "\n",
    "from utils import predicted_test_data_to_result_csv\n",
    "from keras import layers, losses, Input, Model\n",
    "from keras.layers import Dense, Embedding, Conv1D, MaxPooling1D, GlobalMaxPooling1D, BatchNormalization, Activation, Flatten, LSTM, SpatialDropout1D, Bidirectional\n",
    "from keras.losses import sparse_categorical_crossentropy\n",
    "from keras.metrics import sparse_categorical_accuracy\n",
    "from keras.optimizers import Adam, SGD"
   ]
  },
  {
   "cell_type": "code",
   "execution_count": 2,
   "metadata": {},
   "outputs": [],
   "source": [
    "os.environ['TF_CPP_MIN_LOG_LEVEL'] = '3'"
   ]
  },
  {
   "cell_type": "code",
   "execution_count": 3,
   "metadata": {},
   "outputs": [
    {
     "name": "stdout",
     "output_type": "stream",
     "text": [
      "2.10.1\n",
      "[PhysicalDevice(name='/physical_device:GPU:0', device_type='GPU')]\n"
     ]
    }
   ],
   "source": [
    "print(tf.__version__)\n",
    "print(tf.config.list_physical_devices('GPU'))"
   ]
  },
  {
   "cell_type": "code",
   "execution_count": 4,
   "outputs": [],
   "source": [
    "train_path = \"data/base/goodreads_train.csv\"\n",
    "result_path = \"data/base/goodreads_test.csv\"\n",
    "frac_ratio = 0.2"
   ],
   "metadata": {
    "collapsed": false
   }
  },
  {
   "cell_type": "code",
   "execution_count": 5,
   "outputs": [],
   "source": [
    "max_features = 2000  # Maximum vocab size.\n",
    "sequence_length = 200"
   ],
   "metadata": {
    "collapsed": false
   }
  },
  {
   "cell_type": "code",
   "execution_count": 6,
   "metadata": {},
   "outputs": [],
   "source": [
    "df = pd.read_csv(train_path, sep=\",\")"
   ]
  },
  {
   "cell_type": "code",
   "execution_count": 7,
   "outputs": [],
   "source": [
    "index = df[(df['rating'] == 0)].index\n",
    "df.drop(index, inplace=True)\n",
    "df.reset_index(inplace=True, drop=True)"
   ],
   "metadata": {
    "collapsed": false
   }
  },
  {
   "cell_type": "code",
   "execution_count": 8,
   "outputs": [],
   "source": [
    "x_train = df.sample(frac=frac_ratio)\n",
    "x_val = df.drop(x_train.index)"
   ],
   "metadata": {
    "collapsed": false
   }
  },
  {
   "cell_type": "code",
   "execution_count": 9,
   "outputs": [],
   "source": [
    "y_train = x_train.pop('rating')\n",
    "y_train = y_train - 1\n",
    "\n",
    "y_val = x_val.pop('rating')\n",
    "y_val = y_val - 1"
   ],
   "metadata": {
    "collapsed": false
   }
  },
  {
   "cell_type": "code",
   "execution_count": 10,
   "outputs": [],
   "source": [
    "x_train = x_train[\"review_text\"]\n",
    "x_val = x_val[\"review_text\"]"
   ],
   "metadata": {
    "collapsed": false
   }
  },
  {
   "cell_type": "code",
   "execution_count": 11,
   "outputs": [],
   "source": [
    "raw_train_dataset = tf.data.Dataset.from_tensor_slices((x_train, y_train)).shuffle(10, reshuffle_each_iteration=False)\n",
    "raw_val_dataset = tf.data.Dataset.from_tensor_slices((x_val, y_val)).shuffle(10, reshuffle_each_iteration=False)"
   ],
   "metadata": {
    "collapsed": false
   }
  },
  {
   "cell_type": "code",
   "execution_count": 12,
   "metadata": {},
   "outputs": [],
   "source": [
    "def custom_standardization(input_data):\n",
    "    lowercase = tf.strings.lower(input_data)\n",
    "    stripped_spoilers = tf.strings.regex_replace(lowercase, '\\*\\* spoiler alert \\*\\*', ' ')\n",
    "    return tf.strings.regex_replace(stripped_spoilers,\n",
    "                                    '[%s]' % re.escape(string.punctuation),\n",
    "                                    '')"
   ]
  },
  {
   "cell_type": "code",
   "execution_count": 13,
   "outputs": [],
   "source": [
    "vectorize_layer = tf.keras.layers.TextVectorization(\n",
    "    standardize=custom_standardization,\n",
    "    max_tokens=max_features,\n",
    "    output_mode='int',\n",
    "    output_sequence_length=sequence_length)"
   ],
   "metadata": {
    "collapsed": false
   }
  },
  {
   "cell_type": "code",
   "execution_count": 14,
   "outputs": [],
   "source": [
    "epochs = 20\n",
    "model_nb = 4\n",
    "\n",
    "embedding_dim = 100\n",
    "learning_rate = 0.01\n",
    "batch_size = 1024\n",
    "dropout_rate = 0.2\n",
    "hidden_layer = 3"
   ],
   "metadata": {
    "collapsed": false
   }
  },
  {
   "cell_type": "code",
   "execution_count": 15,
   "outputs": [],
   "source": [
    "raw_train_dataset = raw_train_dataset.batch(batch_size=batch_size)\n",
    "raw_val_dataset = raw_val_dataset.batch(batch_size=batch_size)"
   ],
   "metadata": {
    "collapsed": false
   }
  },
  {
   "cell_type": "code",
   "execution_count": 16,
   "outputs": [],
   "source": [
    "# Make a text-only dataset (without labels), then call adapt\n",
    "train_text = raw_train_dataset.map(lambda x, y: x)\n",
    "vectorize_layer.adapt(train_text)\n",
    "\n",
    "val_text = raw_val_dataset.map(lambda x, y: x)\n",
    "vectorize_layer.adapt(val_text)"
   ],
   "metadata": {
    "collapsed": false
   }
  },
  {
   "cell_type": "code",
   "execution_count": 17,
   "outputs": [],
   "source": [
    "def vectorize_text(text, label):\n",
    "    text = tf.expand_dims(text, -1)\n",
    "    return vectorize_layer(text), label"
   ],
   "metadata": {
    "collapsed": false
   }
  },
  {
   "cell_type": "code",
   "execution_count": 18,
   "outputs": [],
   "source": [
    "train_ds = raw_train_dataset.map(vectorize_text)\n",
    "val_ds = raw_val_dataset.map(vectorize_text)"
   ],
   "metadata": {
    "collapsed": false
   }
  },
  {
   "cell_type": "code",
   "execution_count": 19,
   "outputs": [],
   "source": [
    "AUTOTUNE = tf.data.AUTOTUNE\n",
    "\n",
    "train_ds = train_ds.cache().prefetch(buffer_size=AUTOTUNE)\n",
    "val_ds = val_ds.cache().prefetch(buffer_size=AUTOTUNE)"
   ],
   "metadata": {
    "collapsed": false
   }
  },
  {
   "cell_type": "code",
   "execution_count": 20,
   "outputs": [
    {
     "name": "stdout",
     "output_type": "stream",
     "text": [
      "WARNING:tensorflow:Layer lstm will not use cuDNN kernels since it doesn't meet the criteria. It will use a generic GPU kernel as fallback when running on GPU.\n",
      "WARNING:tensorflow:Layer lstm_1 will not use cuDNN kernels since it doesn't meet the criteria. It will use a generic GPU kernel as fallback when running on GPU.\n",
      "WARNING:tensorflow:Layer lstm_2 will not use cuDNN kernels since it doesn't meet the criteria. It will use a generic GPU kernel as fallback when running on GPU.\n",
      "Model: \"model\"\n",
      "_________________________________________________________________\n",
      " Layer (type)                Output Shape              Param #   \n",
      "=================================================================\n",
      " input_1 (InputLayer)        [(None, 200)]             0         \n",
      "                                                                 \n",
      " embedding (Embedding)       (None, 200, 100)          200100    \n",
      "                                                                 \n",
      " lstm (LSTM)                 (None, 200, 100)          80400     \n",
      "                                                                 \n",
      " lstm_1 (LSTM)               (None, 200, 100)          80400     \n",
      "                                                                 \n",
      " lstm_2 (LSTM)               (None, 200, 100)          80400     \n",
      "                                                                 \n",
      " lstm_3 (LSTM)               (None, 50)                30200     \n",
      "                                                                 \n",
      " dense (Dense)               (None, 5)                 255       \n",
      "                                                                 \n",
      "=================================================================\n",
      "Total params: 471,755\n",
      "Trainable params: 471,755\n",
      "Non-trainable params: 0\n",
      "_________________________________________________________________\n"
     ]
    }
   ],
   "source": [
    "input_text = Input(shape=(sequence_length,))\n",
    "\n",
    "embedding_layer = Embedding(max_features + 1, embedding_dim, input_length=sequence_length)(input_text)\n",
    "\n",
    "# spatial_dropout = SpatialDropout1D(dropout_rate)(embedding_layer)\n",
    "# x = embedding_layer\n",
    "# for i in range(hidden_layer):\n",
    "#     x = SpatialDropout1D(dropout_rate)(x)\n",
    "#     x = Bidirectional(LSTM(embedding_dim, dropout=dropout_rate, recurrent_dropout=dropout_rate, return_sequences=True))(x)\n",
    "#\n",
    "# lstm = Bidirectional(LSTM(25, return_sequences=False))(x)\n",
    "x = embedding_layer\n",
    "for i in range(hidden_layer):\n",
    "    x = LSTM(embedding_dim, dropout=dropout_rate, recurrent_dropout=dropout_rate, return_sequences=True)(x)\n",
    "\n",
    "lstm = LSTM(50, return_sequences=False)(x)\n",
    "\n",
    "# global_max_pooling = GlobalMaxPooling1D()(lstm)\n",
    "#\n",
    "# dense = Dense(512, activation='relu')(lstm)\n",
    "\n",
    "output = Dense(5, activation='softmax')(lstm)\n",
    "\n",
    "rnn_model = Model(input_text, output)\n",
    "\n",
    "rnn_model.summary()"
   ],
   "metadata": {
    "collapsed": false
   }
  },
  {
   "cell_type": "code",
   "execution_count": 21,
   "outputs": [],
   "source": [
    "rnn_model.compile(loss=sparse_categorical_crossentropy,\n",
    "                  optimizer=Adam(learning_rate=learning_rate),\n",
    "                  metrics=sparse_categorical_accuracy)"
   ],
   "metadata": {
    "collapsed": false
   }
  },
  {
   "cell_type": "code",
   "execution_count": 22,
   "outputs": [],
   "source": [
    "exp_name = f'rnn_model_{model_nb}_hidden_layers_{hidden_layer}_lr_{learning_rate}_bs_{batch_size}_dr_{dropout_rate}'"
   ],
   "metadata": {
    "collapsed": false
   }
  },
  {
   "cell_type": "code",
   "execution_count": 23,
   "outputs": [
    {
     "name": "stdout",
     "output_type": "stream",
     "text": [
      "Epoch 1/20\n",
      "170/170 [==============================] - 994s 6s/step - loss: 1.3900 - sparse_categorical_accuracy: 0.3552 - val_loss: 1.3828 - val_sparse_categorical_accuracy: 0.3610\n",
      "Epoch 2/20\n",
      "170/170 [==============================] - 999s 6s/step - loss: 1.3808 - sparse_categorical_accuracy: 0.3610 - val_loss: 1.3832 - val_sparse_categorical_accuracy: 0.3610\n",
      "Epoch 3/20\n",
      "170/170 [==============================] - 992s 6s/step - loss: 1.3812 - sparse_categorical_accuracy: 0.3610 - val_loss: 1.3825 - val_sparse_categorical_accuracy: 0.3610\n",
      "Epoch 4/20\n",
      "170/170 [==============================] - 1024s 6s/step - loss: 1.3810 - sparse_categorical_accuracy: 0.3610 - val_loss: 1.3827 - val_sparse_categorical_accuracy: 0.3610\n",
      "Epoch 5/20\n",
      "170/170 [==============================] - 1024s 6s/step - loss: 1.3809 - sparse_categorical_accuracy: 0.3611 - val_loss: 1.3817 - val_sparse_categorical_accuracy: 0.3610\n",
      "Epoch 6/20\n",
      "170/170 [==============================] - 1027s 6s/step - loss: 1.2368 - sparse_categorical_accuracy: 0.4446 - val_loss: 1.1394 - val_sparse_categorical_accuracy: 0.4945\n",
      "Epoch 7/20\n",
      "170/170 [==============================] - 1028s 6s/step - loss: 1.1069 - sparse_categorical_accuracy: 0.5062 - val_loss: 1.0721 - val_sparse_categorical_accuracy: 0.5230\n",
      "Epoch 8/20\n",
      "170/170 [==============================] - 1029s 6s/step - loss: 1.0271 - sparse_categorical_accuracy: 0.5385 - val_loss: 0.9971 - val_sparse_categorical_accuracy: 0.5510\n",
      "Epoch 9/20\n",
      "170/170 [==============================] - 1027s 6s/step - loss: 0.9731 - sparse_categorical_accuracy: 0.5630 - val_loss: 0.9776 - val_sparse_categorical_accuracy: 0.5606\n",
      "Epoch 10/20\n",
      "170/170 [==============================] - 1020s 6s/step - loss: 0.9490 - sparse_categorical_accuracy: 0.5740 - val_loss: 0.9683 - val_sparse_categorical_accuracy: 0.5662\n",
      "Epoch 11/20\n",
      "170/170 [==============================] - 1057s 6s/step - loss: 0.9327 - sparse_categorical_accuracy: 0.5807 - val_loss: 0.9587 - val_sparse_categorical_accuracy: 0.5695\n",
      "Epoch 12/20\n",
      "170/170 [==============================] - 1057s 6s/step - loss: 0.9220 - sparse_categorical_accuracy: 0.5871 - val_loss: 0.9545 - val_sparse_categorical_accuracy: 0.5728\n",
      "Epoch 13/20\n",
      "170/170 [==============================] - 1084s 6s/step - loss: 0.9146 - sparse_categorical_accuracy: 0.5903 - val_loss: 0.9524 - val_sparse_categorical_accuracy: 0.5747\n",
      "Epoch 14/20\n",
      "170/170 [==============================] - 1053s 6s/step - loss: 0.9081 - sparse_categorical_accuracy: 0.5930 - val_loss: 0.9509 - val_sparse_categorical_accuracy: 0.5767\n",
      "Epoch 15/20\n",
      "170/170 [==============================] - 1028s 6s/step - loss: 0.9028 - sparse_categorical_accuracy: 0.5962 - val_loss: 0.9561 - val_sparse_categorical_accuracy: 0.5748\n",
      "Epoch 16/20\n",
      "170/170 [==============================] - 1011s 6s/step - loss: 0.8981 - sparse_categorical_accuracy: 0.5978 - val_loss: 0.9492 - val_sparse_categorical_accuracy: 0.5771\n",
      "Epoch 17/20\n",
      "170/170 [==============================] - 1031s 6s/step - loss: 0.8922 - sparse_categorical_accuracy: 0.6007 - val_loss: 0.9507 - val_sparse_categorical_accuracy: 0.5781\n",
      "Epoch 18/20\n",
      "170/170 [==============================] - 1062s 6s/step - loss: 0.8895 - sparse_categorical_accuracy: 0.6013 - val_loss: 0.9500 - val_sparse_categorical_accuracy: 0.5778\n",
      "Epoch 19/20\n",
      "170/170 [==============================] - 1047s 6s/step - loss: 0.8847 - sparse_categorical_accuracy: 0.6040 - val_loss: 0.9500 - val_sparse_categorical_accuracy: 0.5779\n",
      "Epoch 20/20\n",
      "170/170 [==============================] - 1041s 6s/step - loss: 0.8802 - sparse_categorical_accuracy: 0.6051 - val_loss: 0.9554 - val_sparse_categorical_accuracy: 0.5778\n"
     ]
    },
    {
     "data": {
      "text/plain": "<keras.callbacks.History at 0x1c740413a90>"
     },
     "execution_count": 23,
     "metadata": {},
     "output_type": "execute_result"
    }
   ],
   "source": [
    "rnn_model.fit(train_ds,\n",
    "              validation_data=val_ds,\n",
    "              epochs=epochs,\n",
    "              callbacks=[tf.keras.callbacks.TensorBoard(\"logs/rnn/\" + exp_name)])"
   ],
   "metadata": {
    "collapsed": false
   }
  },
  {
   "cell_type": "code",
   "execution_count": 24,
   "outputs": [],
   "source": [
    "df_test = pd.read_csv(result_path, sep=\",\")\n",
    "\n",
    "df_test_modified = df_test.drop(columns=[\n",
    "    'user_id',\n",
    "    'book_id',\n",
    "    'review_id',\n",
    "    'date_added',\n",
    "    'date_updated',\n",
    "    'read_at',\n",
    "    'started_at',\n",
    "    'n_votes',\n",
    "    'n_comments'\n",
    "], inplace=False)"
   ],
   "metadata": {
    "collapsed": false
   }
  },
  {
   "cell_type": "code",
   "execution_count": 25,
   "outputs": [],
   "source": [
    "export_model = tf.keras.Sequential([\n",
    "    vectorize_layer,\n",
    "    rnn_model\n",
    "])"
   ],
   "metadata": {
    "collapsed": false
   }
  },
  {
   "cell_type": "code",
   "execution_count": null,
   "outputs": [
    {
     "name": "stdout",
     "output_type": "stream",
     "text": [
      " 9414/14939 [=================>............] - ETA: 50:25"
     ]
    }
   ],
   "source": [
    "predicted_test_data = export_model.predict(df_test_modified)"
   ],
   "metadata": {
    "collapsed": false,
    "pycharm": {
     "is_executing": true
    }
   }
  },
  {
   "cell_type": "code",
   "execution_count": null,
   "outputs": [],
   "source": [
    "df_test.head()"
   ],
   "metadata": {
    "collapsed": false,
    "pycharm": {
     "is_executing": true
    }
   }
  },
  {
   "cell_type": "code",
   "execution_count": null,
   "outputs": [],
   "source": [
    "predicted_test_data_to_result_csv(df_test, predicted_test_data, exp_name)"
   ],
   "metadata": {
    "collapsed": false,
    "pycharm": {
     "is_executing": true
    }
   }
  },
  {
   "cell_type": "code",
   "execution_count": null,
   "outputs": [],
   "source": [],
   "metadata": {
    "collapsed": false,
    "pycharm": {
     "is_executing": true
    }
   }
  }
 ],
 "metadata": {
  "kernelspec": {
   "display_name": "Python 3 (ipykernel)",
   "language": "python",
   "name": "python3"
  },
  "language_info": {
   "codemirror_mode": {
    "name": "ipython",
    "version": 3
   },
   "file_extension": ".py",
   "mimetype": "text/x-python",
   "name": "python",
   "nbconvert_exporter": "python",
   "pygments_lexer": "ipython3",
   "version": "3.10.8"
  }
 },
 "nbformat": 4,
 "nbformat_minor": 1
}
