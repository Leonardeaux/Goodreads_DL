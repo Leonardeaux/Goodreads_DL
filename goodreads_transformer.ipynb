{
 "cells": [
  {
   "cell_type": "code",
   "execution_count": 28,
   "outputs": [],
   "source": [
    "import matplotlib.pyplot as plt\n",
    "import os\n",
    "import re\n",
    "import string\n",
    "import tensorflow as tf\n",
    "import pandas as pd\n",
    "\n",
    "import nltk\n",
    "from nltk.stem import WordNetLemmatizer\n",
    "from nltk.corpus import stopwords\n",
    "\n",
    "from utils import predicted_test_data_to_result_csv\n",
    "from keras import layers, losses, Input, Model\n",
    "from keras.layers import Dense, Embedding, Conv1D, MaxPooling1D, GlobalMaxPooling1D, BatchNormalization, Activation, \\\n",
    "    Flatten, LSTM, SpatialDropout1D, Bidirectional, MultiHeadAttention, LayerNormalization, Lambda, \\\n",
    "    GlobalAveragePooling1D, Dropout\n",
    "from keras.losses import sparse_categorical_crossentropy\n",
    "from keras.metrics import sparse_categorical_accuracy\n",
    "from keras.optimizers import Adam, SGD\n",
    "from keras.models import Sequential"
   ],
   "metadata": {
    "collapsed": false
   }
  },
  {
   "cell_type": "code",
   "execution_count": 29,
   "metadata": {},
   "outputs": [],
   "source": [
    "os.environ['TF_CPP_MIN_LOG_LEVEL'] = '3'"
   ]
  },
  {
   "cell_type": "code",
   "execution_count": 30,
   "metadata": {},
   "outputs": [
    {
     "name": "stdout",
     "output_type": "stream",
     "text": [
      "2.10.1\n",
      "[PhysicalDevice(name='/physical_device:GPU:0', device_type='GPU')]\n"
     ]
    }
   ],
   "source": [
    "print(tf.__version__)\n",
    "print(tf.config.list_physical_devices('GPU'))"
   ]
  },
  {
   "cell_type": "code",
   "execution_count": 31,
   "outputs": [],
   "source": [
    "train_path = \"data/base/goodreads_train.csv\"\n",
    "result_path = \"data/base/goodreads_test.csv\"\n",
    "frac_ratio = 0.2"
   ],
   "metadata": {
    "collapsed": false
   }
  },
  {
   "cell_type": "code",
   "execution_count": 32,
   "outputs": [],
   "source": [
    "max_features = 10000  # Maximum vocab size.\n",
    "sequence_length = 200"
   ],
   "metadata": {
    "collapsed": false
   }
  },
  {
   "cell_type": "code",
   "execution_count": 33,
   "metadata": {},
   "outputs": [],
   "source": [
    "df = pd.read_csv(train_path, sep=\",\")"
   ]
  },
  {
   "cell_type": "code",
   "execution_count": 34,
   "outputs": [],
   "source": [
    "index = df[(df['rating'] == 0)].index\n",
    "df.drop(index, inplace=True)\n",
    "df.reset_index(inplace=True, drop=True)"
   ],
   "metadata": {
    "collapsed": false
   }
  },
  {
   "cell_type": "code",
   "execution_count": 35,
   "outputs": [],
   "source": [
    "x_train = df.sample(frac=frac_ratio)\n",
    "x_val = df.drop(x_train.index)"
   ],
   "metadata": {
    "collapsed": false
   }
  },
  {
   "cell_type": "code",
   "execution_count": 36,
   "outputs": [],
   "source": [
    "y_train = x_train.pop('rating')\n",
    "y_train = y_train - 1\n",
    "\n",
    "y_val = x_val.pop('rating')\n",
    "y_val = y_val - 1"
   ],
   "metadata": {
    "collapsed": false
   }
  },
  {
   "cell_type": "code",
   "execution_count": 37,
   "outputs": [],
   "source": [
    "x_train = x_train[\"review_text\"]\n",
    "x_val = x_val[\"review_text\"]"
   ],
   "metadata": {
    "collapsed": false
   }
  },
  {
   "cell_type": "code",
   "execution_count": 38,
   "outputs": [],
   "source": [
    "raw_train_dataset = tf.data.Dataset.from_tensor_slices((x_train, y_train)).shuffle(10, reshuffle_each_iteration=False)\n",
    "raw_val_dataset = tf.data.Dataset.from_tensor_slices((x_val, y_val)).shuffle(10, reshuffle_each_iteration=False)"
   ],
   "metadata": {
    "collapsed": false
   }
  },
  {
   "cell_type": "code",
   "execution_count": 39,
   "outputs": [
    {
     "name": "stderr",
     "output_type": "stream",
     "text": [
      "[nltk_data] Downloading package stopwords to\n",
      "[nltk_data]     C:\\Users\\enzol\\AppData\\Roaming\\nltk_data...\n",
      "[nltk_data]   Package stopwords is already up-to-date!\n"
     ]
    }
   ],
   "source": [
    "nltk.download('stopwords')\n",
    "stopwords = stopwords.words('english')\n",
    "# stopwords = stopwords.extend(['d', 'll', 're', 's', 've'])"
   ],
   "metadata": {
    "collapsed": false
   }
  },
  {
   "cell_type": "code",
   "execution_count": 40,
   "metadata": {},
   "outputs": [],
   "source": [
    "def custom_standardization(input_data):\n",
    "    lowercase = tf.strings.lower(input_data)\n",
    "    stripped_spoilers = tf.strings.regex_replace(lowercase, '\\*\\* spoiler alert \\*\\*', ' ')\n",
    "    stripped_ponctuation = tf.strings.regex_replace(stripped_spoilers, \"[%s]\" % re.escape(string.punctuation), \"\")\n",
    "    data = []\n",
    "    for i in stopwords:\n",
    "        data = tf.strings.regex_replace(stripped_ponctuation, f' {i} ', \" \")\n",
    "    return data"
   ]
  },
  {
   "cell_type": "code",
   "execution_count": 41,
   "outputs": [],
   "source": [
    "vectorize_layer = tf.keras.layers.TextVectorization(\n",
    "    standardize=custom_standardization,\n",
    "    max_tokens=max_features,\n",
    "    output_mode='int',\n",
    "    pad_to_max_tokens=True,\n",
    "    output_sequence_length=sequence_length)"
   ],
   "metadata": {
    "collapsed": false
   }
  },
  {
   "cell_type": "code",
   "execution_count": 42,
   "outputs": [],
   "source": [
    "epochs = 100\n",
    "model_nb = 1\n",
    "\n",
    "embedding_dim = 50 # Embedding size for each token\n",
    "num_heads = 8 # Number of attention heads\n",
    "ff_dim = 64  # Hidden layer size in feed forward network inside transformer\n",
    "learning_rate = 0.007\n",
    "batch_size = 800\n",
    "dropout_rate = 0.4"
   ],
   "metadata": {
    "collapsed": false
   }
  },
  {
   "cell_type": "code",
   "execution_count": 43,
   "outputs": [],
   "source": [
    "raw_train_dataset = raw_train_dataset.batch(batch_size=batch_size)\n",
    "raw_val_dataset = raw_val_dataset.batch(batch_size=batch_size)"
   ],
   "metadata": {
    "collapsed": false
   }
  },
  {
   "cell_type": "code",
   "execution_count": 44,
   "outputs": [],
   "source": [
    "# Make a text-only dataset (without labels), then call adapt\n",
    "train_text = raw_train_dataset.map(lambda x, y: x)\n",
    "vectorize_layer.adapt(train_text)\n",
    "\n",
    "val_text = raw_val_dataset.map(lambda x, y: x)\n",
    "vectorize_layer.adapt(val_text)"
   ],
   "metadata": {
    "collapsed": false
   }
  },
  {
   "cell_type": "code",
   "execution_count": 45,
   "outputs": [],
   "source": [
    "def vectorize_text(text, label):\n",
    "    text = tf.expand_dims(text, -1)\n",
    "    return vectorize_layer(text), label"
   ],
   "metadata": {
    "collapsed": false
   }
  },
  {
   "cell_type": "code",
   "execution_count": 46,
   "outputs": [],
   "source": [
    "train_ds = raw_train_dataset.map(vectorize_text)\n",
    "val_ds = raw_val_dataset.map(vectorize_text)"
   ],
   "metadata": {
    "collapsed": false
   }
  },
  {
   "cell_type": "code",
   "execution_count": 47,
   "outputs": [],
   "source": [
    "AUTOTUNE = tf.data.AUTOTUNE\n",
    "\n",
    "train_ds = train_ds.cache().prefetch(buffer_size=AUTOTUNE)\n",
    "val_ds = val_ds.cache().prefetch(buffer_size=AUTOTUNE)"
   ],
   "metadata": {
    "collapsed": false
   }
  },
  {
   "cell_type": "markdown",
   "source": [
    "input_text = Input(shape=(sequence_length,))\n",
    "\n",
    "embedding_layer = Embedding(max_features + 1, embedding_dim, input_length=sequence_length)(input_text)\n",
    "\n",
    "x = embedding_layer\n",
    "for _ in range(6):\n",
    "    old = x\n",
    "    x = LayerNormalization()(x)\n",
    "    x = MultiHeadAttention(num_heads, embedding_dim)(x, x)\n",
    "    x = x + old\n",
    "    old = x\n",
    "    x = LayerNormalization()(x)\n",
    "    x = Dense(embedding_dim * 2, activation=\"relu\")(x)\n",
    "    x = Dense(embedding_dim, activation=\"relu\")(x)\n",
    "    x = x + old\n",
    "\n",
    "mlp_head_input = Lambda(lambda x: x[:, 0])(x)\n",
    "\n",
    "dense = Dense(512, activation='relu')(mlp_head_input)\n",
    "\n",
    "output = Dense(5, activation='softmax')(dense)\n",
    "\n",
    "transformer_model = Model(input_text, output)\n",
    "\n",
    "transformer_model.summary()"
   ],
   "metadata": {
    "collapsed": false
   }
  },
  {
   "cell_type": "code",
   "execution_count": 48,
   "outputs": [],
   "source": [
    "class TransformerBlock(tf.keras.layers.Layer):\n",
    "    def __init__(self, embedding_dim, num_heads, ff_dim, rate=0):\n",
    "        super(TransformerBlock, self).__init__()\n",
    "        self.att = MultiHeadAttention(num_heads=num_heads,\n",
    "                                      key_dim=embedding_dim)\n",
    "        self.ffn = Sequential(\n",
    "            [Dense(ff_dim, activation='relu'),\n",
    "             Dense(embedding_dim), ]\n",
    "        )\n",
    "        self.layernorm1 = LayerNormalization(epsilon=1e-6)\n",
    "        self.layernorm2 = LayerNormalization(epsilon=1e-6)\n",
    "        self.dropout1 = Dropout(rate)\n",
    "        self.dropout2 = Dropout(rate)\n",
    "\n",
    "    def call(self, inputs, training):\n",
    "        attn_output = self.att(inputs, inputs)\n",
    "        attn_output = self.dropout1(attn_output, training=training)\n",
    "        out1 = self.layernorm1(inputs + attn_output)\n",
    "        ffn_output = self.ffn(out1)\n",
    "        ffn_output = self.dropout2(ffn_output, training=training)\n",
    "\n",
    "        return self.layernorm2(out1 + ffn_output)"
   ],
   "metadata": {
    "collapsed": false
   }
  },
  {
   "cell_type": "code",
   "execution_count": 49,
   "outputs": [],
   "source": [
    "class TokenAndPositionEmbedding(tf.keras.layers.Layer):\n",
    "    def __init__(self, maxlen, vocab_size, embedding_dim):\n",
    "        super(TokenAndPositionEmbedding, self).__init__()\n",
    "        self.token_emb = Embedding(input_dim=vocab_size, output_dim=embedding_dim)\n",
    "        self.pos_emb = Embedding(input_dim=maxlen, output_dim=embedding_dim)\n",
    "\n",
    "    def call(self, x):\n",
    "        maxlen = tf.shape(x)[-1]\n",
    "        positions = tf.range(start=0, limit=maxlen, delta=1)\n",
    "        positions = self.pos_emb(positions)\n",
    "        x = self.token_emb(x)\n",
    "\n",
    "        return x + positions"
   ],
   "metadata": {
    "collapsed": false
   }
  },
  {
   "cell_type": "code",
   "execution_count": 50,
   "outputs": [],
   "source": [
    "inputs = Input(shape=(sequence_length,))\n",
    "embedding_layer = TokenAndPositionEmbedding(maxlen=sequence_length, vocab_size=max_features, embedding_dim=embedding_dim)\n",
    "x = embedding_layer(inputs)\n",
    "transformer_block = TransformerBlock(embedding_dim=embedding_dim, num_heads=num_heads, ff_dim=ff_dim)\n",
    "x = transformer_block(x)\n",
    "x = GlobalAveragePooling1D()(x)\n",
    "x = Dropout(dropout_rate)(x)\n",
    "x = Dense(30, activation='relu')(x)\n",
    "x = Dropout(dropout_rate)(x)\n",
    "outputs = Dense(5, activation='softmax')(x)\n",
    "\n",
    "transformer_model = Model(inputs=inputs, outputs=outputs)"
   ],
   "metadata": {
    "collapsed": false
   }
  },
  {
   "cell_type": "code",
   "execution_count": 51,
   "outputs": [],
   "source": [
    "transformer_model.compile(loss=sparse_categorical_crossentropy,\n",
    "                          optimizer=Adam(learning_rate=learning_rate),\n",
    "                          metrics=sparse_categorical_accuracy)"
   ],
   "metadata": {
    "collapsed": false
   }
  },
  {
   "cell_type": "code",
   "execution_count": 52,
   "outputs": [],
   "source": [
    "exp_name = f'transformer_model_with_stopwords_{model_nb}_num_heads_{num_heads}_emb_dim_{embedding_dim}_ff_dim_{ff_dim}_lr_{learning_rate}_bs_{batch_size}_dr_{dropout_rate}'"
   ],
   "metadata": {
    "collapsed": false
   }
  },
  {
   "cell_type": "code",
   "execution_count": null,
   "outputs": [
    {
     "name": "stdout",
     "output_type": "stream",
     "text": [
      "WARNING:tensorflow:Model failed to serialize as JSON. Ignoring... \n",
      "Layer TokenAndPositionEmbedding has arguments ['maxlen', 'vocab_size', 'embedding_dim']\n",
      "in `__init__` and therefore must override `get_config()`.\n",
      "\n",
      "Example:\n",
      "\n",
      "class CustomLayer(keras.layers.Layer):\n",
      "    def __init__(self, arg1, arg2):\n",
      "        super().__init__()\n",
      "        self.arg1 = arg1\n",
      "        self.arg2 = arg2\n",
      "\n",
      "    def get_config(self):\n",
      "        config = super().get_config()\n",
      "        config.update({\n",
      "            \"arg1\": self.arg1,\n",
      "            \"arg2\": self.arg2,\n",
      "        })\n",
      "        return config\n",
      "Epoch 1/100\n",
      "218/218 [==============================] - 62s 278ms/step - loss: 1.3865 - sparse_categorical_accuracy: 0.3662 - val_loss: 1.1590 - val_sparse_categorical_accuracy: 0.4714\n",
      "Epoch 2/100\n",
      "218/218 [==============================] - 62s 283ms/step - loss: 1.1298 - sparse_categorical_accuracy: 0.4882 - val_loss: 1.0941 - val_sparse_categorical_accuracy: 0.5011\n",
      "Epoch 3/100\n",
      "218/218 [==============================] - 61s 281ms/step - loss: 1.0451 - sparse_categorical_accuracy: 0.5288 - val_loss: 1.0229 - val_sparse_categorical_accuracy: 0.5308\n",
      "Epoch 4/100\n",
      "218/218 [==============================] - 59s 273ms/step - loss: 1.0111 - sparse_categorical_accuracy: 0.5434 - val_loss: 1.0253 - val_sparse_categorical_accuracy: 0.5355\n",
      "Epoch 5/100\n",
      "218/218 [==============================] - 58s 269ms/step - loss: 0.9890 - sparse_categorical_accuracy: 0.5513 - val_loss: 1.0573 - val_sparse_categorical_accuracy: 0.5322\n",
      "Epoch 6/100\n",
      "218/218 [==============================] - 59s 271ms/step - loss: 0.9718 - sparse_categorical_accuracy: 0.5586 - val_loss: 1.0421 - val_sparse_categorical_accuracy: 0.5368\n",
      "Epoch 7/100\n",
      "218/218 [==============================] - 63s 288ms/step - loss: 0.9556 - sparse_categorical_accuracy: 0.5643 - val_loss: 1.0594 - val_sparse_categorical_accuracy: 0.5315\n",
      "Epoch 8/100\n",
      "110/218 [==============>...............] - ETA: 11s - loss: 0.9520 - sparse_categorical_accuracy: 0.5660"
     ]
    }
   ],
   "source": [
    "transformer_model.fit(train_ds,\n",
    "                      validation_data=val_ds,\n",
    "                      epochs=epochs,\n",
    "                      callbacks=[\n",
    "                          tf.keras.callbacks.TensorBoard(\"logs/transformer/\" + exp_name),\n",
    "                          tf.keras.callbacks.EarlyStopping(monitor='loss', patience=10)\n",
    "                                 ])"
   ],
   "metadata": {
    "collapsed": false,
    "pycharm": {
     "is_executing": true
    }
   }
  },
  {
   "cell_type": "code",
   "execution_count": null,
   "outputs": [],
   "source": [
    "df_test = pd.read_csv(result_path, sep=\",\")\n",
    "\n",
    "df_test_modified = df_test.drop(columns=[\n",
    "    'user_id',\n",
    "    'book_id',\n",
    "    'review_id',\n",
    "    'date_added',\n",
    "    'date_updated',\n",
    "    'read_at',\n",
    "    'started_at',\n",
    "    'n_votes',\n",
    "    'n_comments'\n",
    "], inplace=False)"
   ],
   "metadata": {
    "collapsed": false,
    "pycharm": {
     "is_executing": true
    }
   }
  },
  {
   "cell_type": "code",
   "execution_count": null,
   "outputs": [],
   "source": [
    "export_model = tf.keras.Sequential([\n",
    "    vectorize_layer,\n",
    "    transformer_model\n",
    "])"
   ],
   "metadata": {
    "collapsed": false,
    "pycharm": {
     "is_executing": true
    }
   }
  },
  {
   "cell_type": "code",
   "execution_count": null,
   "outputs": [],
   "source": [
    "predicted_test_data = export_model.predict(df_test_modified)"
   ],
   "metadata": {
    "collapsed": false,
    "pycharm": {
     "is_executing": true
    }
   }
  },
  {
   "cell_type": "code",
   "execution_count": null,
   "outputs": [],
   "source": [
    "df_test.head()"
   ],
   "metadata": {
    "collapsed": false,
    "pycharm": {
     "is_executing": true
    }
   }
  },
  {
   "cell_type": "code",
   "execution_count": null,
   "outputs": [],
   "source": [
    "predicted_test_data_to_result_csv(df_test, predicted_test_data, exp_name)"
   ],
   "metadata": {
    "collapsed": false,
    "pycharm": {
     "is_executing": true
    }
   }
  },
  {
   "cell_type": "code",
   "execution_count": null,
   "outputs": [],
   "source": [],
   "metadata": {
    "collapsed": false,
    "pycharm": {
     "is_executing": true
    }
   }
  }
 ],
 "metadata": {
  "kernelspec": {
   "display_name": "Python 3 (ipykernel)",
   "language": "python",
   "name": "python3"
  },
  "language_info": {
   "codemirror_mode": {
    "name": "ipython",
    "version": 3
   },
   "file_extension": ".py",
   "mimetype": "text/x-python",
   "name": "python",
   "nbconvert_exporter": "python",
   "pygments_lexer": "ipython3",
   "version": "3.10.8"
  }
 },
 "nbformat": 4,
 "nbformat_minor": 1
}
