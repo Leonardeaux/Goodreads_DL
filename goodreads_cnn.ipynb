{
 "cells": [
  {
   "cell_type": "code",
   "execution_count": 1,
   "metadata": {},
   "outputs": [],
   "source": [
    "import matplotlib.pyplot as plt\n",
    "import os\n",
    "import re\n",
    "import string\n",
    "import tensorflow as tf\n",
    "import pandas as pd\n",
    "\n",
    "from utils import predicted_test_data_to_result_csv\n",
    "from keras import layers, losses, Input, Model\n",
    "from keras.layers import Dense, Embedding, Conv1D, MaxPooling1D, GlobalMaxPooling1D\n",
    "from keras.losses import sparse_categorical_crossentropy\n",
    "from keras.metrics import sparse_categorical_accuracy\n",
    "from keras.optimizers import Adam, SGD"
   ]
  },
  {
   "cell_type": "code",
   "execution_count": 2,
   "metadata": {},
   "outputs": [],
   "source": [
    "os.environ['TF_CPP_MIN_LOG_LEVEL'] = '3'"
   ]
  },
  {
   "cell_type": "code",
   "execution_count": 3,
   "metadata": {},
   "outputs": [
    {
     "name": "stdout",
     "output_type": "stream",
     "text": [
      "2.10.1\n",
      "[PhysicalDevice(name='/physical_device:GPU:0', device_type='GPU')]\n"
     ]
    }
   ],
   "source": [
    "print(tf.__version__)\n",
    "print(tf.config.list_physical_devices('GPU'))"
   ]
  },
  {
   "cell_type": "code",
   "execution_count": 4,
   "outputs": [],
   "source": [
    "train_path = \"data/base/goodreads_train.csv\"\n",
    "result_path = \"data/base/goodreads_test.csv\""
   ],
   "metadata": {
    "collapsed": false
   }
  },
  {
   "cell_type": "code",
   "execution_count": 5,
   "metadata": {},
   "outputs": [],
   "source": [
    "df = pd.read_csv(train_path, sep=\",\")"
   ]
  },
  {
   "cell_type": "markdown",
   "source": [
    "Drop all lines with 0 in rating column"
   ],
   "metadata": {
    "collapsed": false
   }
  },
  {
   "cell_type": "code",
   "execution_count": 6,
   "outputs": [],
   "source": [
    "index = df[(df['rating'] == 0)].index\n",
    "df.drop(index, inplace=True)\n",
    "df.reset_index(inplace=True, drop=True)"
   ],
   "metadata": {
    "collapsed": false
   }
  },
  {
   "cell_type": "markdown",
   "source": [
    "Targets DataFrames"
   ],
   "metadata": {
    "collapsed": false
   }
  },
  {
   "cell_type": "code",
   "execution_count": 7,
   "outputs": [],
   "source": [
    "targets = df.pop('rating')\n",
    "targets = targets - 1\n",
    "# targets = tf.keras.utils.to_categorical(targets)"
   ],
   "metadata": {
    "collapsed": false
   }
  },
  {
   "cell_type": "markdown",
   "source": [
    "Features DataFrames"
   ],
   "metadata": {
    "collapsed": false
   }
  },
  {
   "cell_type": "code",
   "execution_count": 8,
   "outputs": [
    {
     "data": {
      "text/plain": "<tf.Tensor: shape=(869012, 1), dtype=string, numpy=\narray([[b'This is a special book. It started slow for about the first third, then in the middle third it started to get interesting, then the last third blew my mind. This is what I love about good science fiction - it pushes your thinking about where things can go. \\n It is a 2015 Hugo winner, and translated from its original Chinese, which made it interesting in just a different way from most things I\\'ve read. For instance the intermixing of Chinese revolutionary history - how they kept accusing people of being \"reactionaries\", etc. \\n It is a book about science, and aliens. The science described in the book is impressive - its a book grounded in physics and pretty accurate as far as I could tell. (view spoiler)[Though when it got to folding protons into 8 dimensions I think he was just making stuff up - interesting to think about though. \\n But what would happen if our SETI stations received a message - if we found someone was out there - and the person monitoring and answering the signal on our side was disillusioned? That part of the book was a bit dark - I would like to think human reaction to discovering alien civilization that is hostile would be more like Enders Game where we would band together. \\n I did like how the book unveiled the Trisolaran culture through the game. It was a smart way to build empathy with them and also understand what they\\'ve gone through across so many centuries. And who know a 3 body problem was an unsolvable math problem? But I still don\\'t get who made the game - maybe that will come in the next book. \\n I loved this quote: \\n \"In the long history of scientific progress, how many protons have been smashed apart in accelerators by physicists? How many neutrons and electrons? Probably no fewer than a hundred million. Every collision was probably the end of the civilizations and intelligences in a microcosmos. In fact, even in nature, the destruction of universes must be happening at every second--for example, through the decay of neutrons. Also, a high-energy cosmic ray entering the atmosphere may destroy thousands of such miniature universes....\" \\n (hide spoiler)]'],\n       [b'Recommended by Don Katz. Avail for free in December: http://www.audible.com/mt/ellison2?so...'],\n       [b'A fun, fast paced science fiction thriller. I read it in 2 nights and couldn\\'t put it down. The book is about the quantum theory of many worlds which states that all decisions we make throughout our lives basically create branches, and that each possible path through the decision tree can be thought of as a parallel world. And in this book, someone invents a way to switch between these worlds. This was nicely alluded to/foreshadowed in this quote: \\n \"I think about all the choices we\\'ve made that created this moment. Us sitting here together at this beautiful table. Then I think of all the possible events that could have stopped this moment from ever happening, and it all feels, I don\\'t know...\" \"What?\" \"So fragile.\" Now he becomes thoughtful for a moment. He says finally, \"It\\'s terrifying when you consider that every thought we have, every choice we could possibly make, branches into a new world.\" \\n (view spoiler)[This book can\\'t be discussed without spoilers. It is a book about choice and regret. Ever regret not chasing the girl of your dreams so you can focus on your career? Well Jason2 made that choice and then did regret it. Clearly the author is trying to tell us to optimize for happiness - to be that second rate physics teacher at a community college if it means you can have a happy life. I\\'m being snarky because while there is certainly something to that, you also have to have meaning in your life that comes from within. I thought the book was a little shallow on this dimension. In fact, all the characters were fairly shallow. Daniela was the perfect wife. Ryan the perfect antithesis of Jason. Amanda the perfect loyal traveling companion, etc. This, plus the fact that the book was weak on the science are what led me to take a few stars off - but I\\'d still read it again if I could go back in time - was a very fun and engaging read. \\n If you want to really minimize regret, you have to live your life to avoid it in the first place. Regret can\\'t be hacked, which is kind of the point of the book. My favorite book about regret is Remains of the Day. I do really like the visualization of the decision tree though - that is a powerful concept. \\n \"Every moment, every breath, contains a choice. But life is imperfect. We make the wrong choices. So we end up living in a state of perpetual regret, and is there anything worse? I built something that could actually eradicate regret. Let you find worlds where you made the right choice.\" Daniela says, \"Life doesn\\'t work that way. You live with your choices and learn. You don\\'t cheat the system.\" \\n (hide spoiler)]'],\n       ...,\n       [b'** spoiler alert ** \\n 3.5 stars. \\n This book is sweet inside and out! What\\'s sweeter than the ice cream on this cover??? and Patrick...he\\'s such a sweet guy! \\n Elyse hates Valentine\\'s Day, because a year ago, on that very same day she was betrayed by the two people she loved. She caught her best friend and boyfriend cheating on her! Now, she is working for a gift/card store with her new friend Dina and seriously annoyed by the singing Cupid that every customer seemed to love. After her last relationship, she vowed not to be involved with anyone for a while and decided to focus in school and work. Dina, on the other hand, can\\'t seem to get over her ex-boyfriend. Elyse wants to help her friend to forget her ex, so when a cute guy came in the store, she believe that she just found the perfect distraction for Dina. The cute guy---Patrick have a mind and feelings of his own, and he\\'s on a mission to show Elyse that he\\'s nothing like her ex-boyfriend! \\n Elyse was a little annoying, however, I understand where she is coming from. I guess if you were betrayed and got hurt, your initial reaction is to protect yourself. You\\'ll be scared to take risks and you tend to push people away. It\\'s also harder to trust and open up to people. That\\'s what Elyse was doing in this story. When she and her mom moved because of financial reasons (this is right after \"the break-up\"), she never made friends in her new school, aside from Dina. That\\'s why when she noticed Patrick\\'s advances, she immediately shut him out. I just love Patrick. He\\'s too good to be true! He\\'s sweet and thoughtful, and I totally hate Elyse now for having him. LOL! \\n I liked the story and the characters,the book made me smile despite my sickness. This book is perfect for people who wants to read light-hearted teen romance novels. \\n Now I\\'m off to find MY Patrick! =D'],\n       [b'** spoiler alert ** \\n Another fun read from Ms Evanovich! \\n Diesel and Lizzy\\'s new assignment is to find the next SALIGIA stone which is Luxuria also known as the \"lust stone\". Of course Wulf and his crazy assistant Hatchett is also looking for the same stone, but there\\'s a new player in the mix---Anarchy. \\n There was a lot of action that occured in this book than in Wicked Appetite. As always, Glo and the Carl\\'s antics made me laugh. I\\'m glad that this two characters were used in finding the clues that lead Diesel and Lizzy closer to the Luxuria stone. I was surprised that Carl was the \"innocent\" one when he loves flipping people off. LOL! I really enjoyed their scavenger hunt. The Hatchett-Glo love team was hilarious. I just wish that it was Diesel or Wulf who got affected by the Luxuria and not Hatchet. Morty and his spoon bending ability was funny too! I think my favorite addition in this book is the exploding cars! LOL. I still want to know more about Wulf, It seems like he\\'s really not that bad. I hope we get to know him better in the next book! \\n I had fun reading this book. Even though I was feeling under the weather, this book kept me well entertained and awake all through out my work shift. Recommended for people who are looking for something light and funny book to read.'],\n       [b\"** spoiler alert ** \\n 3.5 stars \\n I liked it! The story is original and it's well written. I find Jane a very likable character, she's smart and confident. However, I just don't get what she liked so much about Elton, he's so not worth it! The other characters are not so memorable. Her best friend for example, her character is flat. I didn't learn much about her to be sad or frustrated when she supposedly lost her soul to Lanalee. I liked Owen though, even if he's more than a hundred years old, he's still charming and swoon worthy. Though I liked the idea of him and Jane fighting demons together, I just wished they had more time getting to know each other before they decided to be boyfriend-girlfriend. \\n Now my question is: why there isn't a sequel for Devilish? \\n This was a quick and entertaining read. I recommend it for YA paranormal fans who are looking for something light and unpredictable read.\"]],\n      dtype=object)>"
     },
     "execution_count": 8,
     "metadata": {},
     "output_type": "execute_result"
    }
   ],
   "source": [
    "features_names = ['review_text']\n",
    "features = df[features_names]\n",
    "tf.convert_to_tensor(features)"
   ],
   "metadata": {
    "collapsed": false
   }
  },
  {
   "cell_type": "code",
   "execution_count": 9,
   "metadata": {},
   "outputs": [],
   "source": [
    "def custom_standardization(input_data):\n",
    "    lowercase = tf.strings.lower(input_data)\n",
    "    stripped_spoilers = tf.strings.regex_replace(lowercase, '\\*\\* spoiler alert \\*\\*', ' ')\n",
    "    return tf.strings.regex_replace(stripped_spoilers,\n",
    "                                    '[%s]' % re.escape(string.punctuation),\n",
    "                                    '')"
   ]
  },
  {
   "cell_type": "code",
   "execution_count": 10,
   "outputs": [],
   "source": [
    "max_features = 5000  # Maximum vocab size.\n",
    "sequence_length = 100"
   ],
   "metadata": {
    "collapsed": false
   }
  },
  {
   "cell_type": "code",
   "execution_count": 11,
   "outputs": [],
   "source": [
    "vectorized_layer = tf.keras.layers.TextVectorization(\n",
    "    standardize=custom_standardization,\n",
    "    max_tokens=max_features,\n",
    "    output_mode='int',\n",
    "    output_sequence_length=sequence_length)"
   ],
   "metadata": {
    "collapsed": false
   }
  },
  {
   "cell_type": "code",
   "execution_count": 12,
   "outputs": [],
   "source": [
    "vectorized_layer.adapt(features)"
   ],
   "metadata": {
    "collapsed": false
   }
  },
  {
   "cell_type": "code",
   "execution_count": 13,
   "outputs": [],
   "source": [
    "epochs = 20\n",
    "model_nb = 1\n",
    "\n",
    "embedding_dim = 50\n",
    "learning_rate = 0.0001\n",
    "batch_size = 20000\n",
    "dropout_rate = 0.0"
   ],
   "metadata": {
    "collapsed": false
   }
  },
  {
   "cell_type": "code",
   "execution_count": 14,
   "outputs": [
    {
     "name": "stdout",
     "output_type": "stream",
     "text": [
      "Model: \"model\"\n",
      "_________________________________________________________________\n",
      " Layer (type)                Output Shape              Param #   \n",
      "=================================================================\n",
      " input_1 (InputLayer)        [(None, 1)]               0         \n",
      "                                                                 \n",
      " text_vectorization (TextVec  (None, 100)              0         \n",
      " torization)                                                     \n",
      "                                                                 \n",
      " embedding (Embedding)       (None, 100, 50)           250050    \n",
      "                                                                 \n",
      " conv1d (Conv1D)             (None, 100, 64)           9664      \n",
      "                                                                 \n",
      " conv1d_1 (Conv1D)           (None, 100, 64)           12352     \n",
      "                                                                 \n",
      " max_pooling1d (MaxPooling1D  (None, 50, 64)           0         \n",
      " )                                                               \n",
      "                                                                 \n",
      " conv1d_2 (Conv1D)           (None, 50, 128)           41088     \n",
      "                                                                 \n",
      " conv1d_3 (Conv1D)           (None, 50, 128)           82048     \n",
      "                                                                 \n",
      " max_pooling1d_1 (MaxPooling  (None, 16, 128)          0         \n",
      " 1D)                                                             \n",
      "                                                                 \n",
      " conv1d_4 (Conv1D)           (None, 16, 256)           164096    \n",
      "                                                                 \n",
      " conv1d_5 (Conv1D)           (None, 16, 256)           327936    \n",
      "                                                                 \n",
      " max_pooling1d_2 (MaxPooling  (None, 5, 256)           0         \n",
      " 1D)                                                             \n",
      "                                                                 \n",
      " conv1d_6 (Conv1D)           (None, 5, 512)            655872    \n",
      "                                                                 \n",
      " conv1d_7 (Conv1D)           (None, 5, 512)            1311232   \n",
      "                                                                 \n",
      " max_pooling1d_3 (MaxPooling  (None, 1, 512)           0         \n",
      " 1D)                                                             \n",
      "                                                                 \n",
      " global_max_pooling1d (Globa  (None, 512)              0         \n",
      " lMaxPooling1D)                                                  \n",
      "                                                                 \n",
      " dense (Dense)               (None, 32)                16416     \n",
      "                                                                 \n",
      " dense_1 (Dense)             (None, 5)                 165       \n",
      "                                                                 \n",
      "=================================================================\n",
      "Total params: 2,870,919\n",
      "Trainable params: 2,870,919\n",
      "Non-trainable params: 0\n",
      "_________________________________________________________________\n"
     ]
    }
   ],
   "source": [
    "input_text = Input(shape=(1,), dtype=tf.string)\n",
    "\n",
    "vectorized_text = vectorized_layer(input_text)\n",
    "\n",
    "embedding_layer = Embedding(max_features + 1, embedding_dim, input_length=sequence_length)(vectorized_text)\n",
    "\n",
    "x = Conv1D(64, 3, activation = 'relu', padding = 'same')(embedding_layer)\n",
    "x = Conv1D(64, 3, activation = 'relu', padding = 'same')(x)\n",
    "x = MaxPooling1D(2)(x)\n",
    "\n",
    "x = Conv1D(128, 5, activation = 'relu', padding = 'same')(x)\n",
    "x = Conv1D(128, 5, activation = 'relu', padding = 'same')(x)\n",
    "x = MaxPooling1D(3)(x)\n",
    "\n",
    "x = Conv1D(256, 5, activation = 'relu', padding = 'same')(x)\n",
    "x = Conv1D(256, 5, activation = 'relu', padding = 'same')(x)\n",
    "x = MaxPooling1D(3)(x)\n",
    "\n",
    "x = Conv1D(512, 5, activation = 'relu', padding = 'same')(x)\n",
    "x = Conv1D(512, 5, activation = 'relu', padding = 'same')(x)\n",
    "x = MaxPooling1D(3)(x)\n",
    "\n",
    "global_max_pooling = GlobalMaxPooling1D()(x)\n",
    "\n",
    "dense = Dense(32, activation='relu')(global_max_pooling)\n",
    "\n",
    "output = Dense(5, activation='softmax')(dense)\n",
    "\n",
    "cnn_model = Model(input_text, output)\n",
    "\n",
    "cnn_model.summary()"
   ],
   "metadata": {
    "collapsed": false
   }
  },
  {
   "cell_type": "code",
   "execution_count": 15,
   "outputs": [],
   "source": [
    "cnn_model.compile(loss=sparse_categorical_crossentropy,\n",
    "                  optimizer=Adam(learning_rate=learning_rate),\n",
    "                  metrics=sparse_categorical_accuracy)"
   ],
   "metadata": {
    "collapsed": false
   }
  },
  {
   "cell_type": "code",
   "execution_count": 16,
   "outputs": [],
   "source": [
    "exp_name = f'cnn_model_{model_nb}_lr_{learning_rate}_bs_{batch_size}_dr_{dropout_rate}'"
   ],
   "metadata": {
    "collapsed": false
   }
  },
  {
   "cell_type": "code",
   "execution_count": 17,
   "outputs": [
    {
     "name": "stdout",
     "output_type": "stream",
     "text": [
      "Epoch 1/20\n",
      "33/33 [==============================] - 114s 3s/step - loss: 1.4844 - sparse_categorical_accuracy: 0.3510 - val_loss: 1.3866 - val_sparse_categorical_accuracy: 0.3615\n",
      "Epoch 2/20\n",
      "33/33 [==============================] - 90s 3s/step - loss: 1.3849 - sparse_categorical_accuracy: 0.3608 - val_loss: 1.3727 - val_sparse_categorical_accuracy: 0.3615\n",
      "Epoch 3/20\n",
      "33/33 [==============================] - 87s 3s/step - loss: 1.3809 - sparse_categorical_accuracy: 0.3608 - val_loss: 1.3693 - val_sparse_categorical_accuracy: 0.3615\n",
      "Epoch 4/20\n",
      "33/33 [==============================] - 90s 3s/step - loss: 1.3771 - sparse_categorical_accuracy: 0.3608 - val_loss: 1.3631 - val_sparse_categorical_accuracy: 0.3615\n",
      "Epoch 5/20\n",
      "33/33 [==============================] - 74s 2s/step - loss: 1.3567 - sparse_categorical_accuracy: 0.3611 - val_loss: 1.3033 - val_sparse_categorical_accuracy: 0.3776\n",
      "Epoch 6/20\n",
      "33/33 [==============================] - 83s 3s/step - loss: 1.2591 - sparse_categorical_accuracy: 0.4159 - val_loss: 1.2139 - val_sparse_categorical_accuracy: 0.4421\n",
      "Epoch 7/20\n",
      "33/33 [==============================] - 90s 3s/step - loss: 1.1879 - sparse_categorical_accuracy: 0.4580 - val_loss: 1.1705 - val_sparse_categorical_accuracy: 0.4677\n",
      "Epoch 8/20\n",
      "33/33 [==============================] - 98s 3s/step - loss: 1.1550 - sparse_categorical_accuracy: 0.4772 - val_loss: 1.1432 - val_sparse_categorical_accuracy: 0.4843\n",
      "Epoch 9/20\n",
      "33/33 [==============================] - 98s 3s/step - loss: 1.1352 - sparse_categorical_accuracy: 0.4876 - val_loss: 1.1310 - val_sparse_categorical_accuracy: 0.4899\n",
      "Epoch 10/20\n",
      "33/33 [==============================] - 102s 3s/step - loss: 1.1221 - sparse_categorical_accuracy: 0.4935 - val_loss: 1.1245 - val_sparse_categorical_accuracy: 0.4926\n",
      "Epoch 11/20\n",
      "33/33 [==============================] - 96s 3s/step - loss: 1.1101 - sparse_categorical_accuracy: 0.4997 - val_loss: 1.1142 - val_sparse_categorical_accuracy: 0.4976\n",
      "Epoch 12/20\n",
      "33/33 [==============================] - 74s 2s/step - loss: 1.1000 - sparse_categorical_accuracy: 0.5046 - val_loss: 1.1079 - val_sparse_categorical_accuracy: 0.5009\n",
      "Epoch 13/20\n",
      "33/33 [==============================] - 82s 3s/step - loss: 1.0945 - sparse_categorical_accuracy: 0.5071 - val_loss: 1.1014 - val_sparse_categorical_accuracy: 0.5028\n",
      "Epoch 14/20\n",
      "33/33 [==============================] - 98s 3s/step - loss: 1.0796 - sparse_categorical_accuracy: 0.5138 - val_loss: 1.0895 - val_sparse_categorical_accuracy: 0.5073\n",
      "Epoch 15/20\n",
      "33/33 [==============================] - 81s 2s/step - loss: 1.0661 - sparse_categorical_accuracy: 0.5195 - val_loss: 1.0755 - val_sparse_categorical_accuracy: 0.5144\n",
      "Epoch 16/20\n",
      "33/33 [==============================] - 111s 3s/step - loss: 1.0515 - sparse_categorical_accuracy: 0.5254 - val_loss: 1.0725 - val_sparse_categorical_accuracy: 0.5141\n",
      "Epoch 17/20\n",
      "33/33 [==============================] - 97s 3s/step - loss: 1.0380 - sparse_categorical_accuracy: 0.5324 - val_loss: 1.0502 - val_sparse_categorical_accuracy: 0.5254\n",
      "Epoch 18/20\n",
      "33/33 [==============================] - 87s 3s/step - loss: 1.0259 - sparse_categorical_accuracy: 0.5381 - val_loss: 1.0434 - val_sparse_categorical_accuracy: 0.5287\n",
      "Epoch 19/20\n",
      "33/33 [==============================] - 86s 3s/step - loss: 1.0169 - sparse_categorical_accuracy: 0.5424 - val_loss: 1.0437 - val_sparse_categorical_accuracy: 0.5285\n",
      "Epoch 20/20\n",
      "33/33 [==============================] - 68s 2s/step - loss: 1.0126 - sparse_categorical_accuracy: 0.5445 - val_loss: 1.0342 - val_sparse_categorical_accuracy: 0.5338\n"
     ]
    },
    {
     "data": {
      "text/plain": "<keras.callbacks.History at 0x244bf2900d0>"
     },
     "execution_count": 17,
     "metadata": {},
     "output_type": "execute_result"
    }
   ],
   "source": [
    "cnn_model.fit(features,\n",
    "              targets,\n",
    "              validation_split=0.25,\n",
    "              batch_size=batch_size,\n",
    "              epochs=epochs,\n",
    "              callbacks=[tf.keras.callbacks.TensorBoard(\"logs/cnn/\" + exp_name)])"
   ],
   "metadata": {
    "collapsed": false
   }
  },
  {
   "cell_type": "code",
   "execution_count": 17,
   "outputs": [],
   "source": [],
   "metadata": {
    "collapsed": false
   }
  }
 ],
 "metadata": {
  "kernelspec": {
   "display_name": "Python 3 (ipykernel)",
   "language": "python",
   "name": "python3"
  },
  "language_info": {
   "codemirror_mode": {
    "name": "ipython",
    "version": 3
   },
   "file_extension": ".py",
   "mimetype": "text/x-python",
   "name": "python",
   "nbconvert_exporter": "python",
   "pygments_lexer": "ipython3",
   "version": "3.10.8"
  }
 },
 "nbformat": 4,
 "nbformat_minor": 1
}
