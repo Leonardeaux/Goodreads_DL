{
 "cells": [
  {
   "cell_type": "code",
   "execution_count": null,
   "metadata": {},
   "outputs": [],
   "source": [
    "import matplotlib.pyplot as plt\n",
    "import os\n",
    "import re\n",
    "import string\n",
    "import tensorflow as tf\n",
    "import pandas as pd\n",
    "\n",
    "from utils import predicted_test_data_to_result_csv\n",
    "from keras import layers, losses, Input, Model\n",
    "from keras.layers import Dense, Embedding, Conv1D, MaxPooling1D, GlobalMaxPooling1D\n",
    "from keras.losses import sparse_categorical_crossentropy\n",
    "from keras.metrics import sparse_categorical_accuracy\n",
    "from keras.optimizers import Adam, SGD"
   ]
  },
  {
   "cell_type": "code",
   "execution_count": null,
   "metadata": {},
   "outputs": [],
   "source": [
    "os.environ['TF_CPP_MIN_LOG_LEVEL'] = '3'"
   ]
  },
  {
   "cell_type": "code",
   "execution_count": null,
   "metadata": {},
   "outputs": [],
   "source": [
    "print(tf.__version__)\n",
    "print(tf.config.list_physical_devices('GPU'))"
   ]
  },
  {
   "cell_type": "code",
   "execution_count": null,
   "outputs": [],
   "source": [
    "train_path = \"data/base/goodreads_train.csv\"\n",
    "result_path = \"data/base/goodreads_test.csv\""
   ],
   "metadata": {
    "collapsed": false
   }
  },
  {
   "cell_type": "code",
   "execution_count": null,
   "metadata": {},
   "outputs": [],
   "source": [
    "df = pd.read_csv(train_path, sep=\",\")"
   ]
  },
  {
   "cell_type": "markdown",
   "source": [
    "Drop all lines with 0 in rating column"
   ],
   "metadata": {
    "collapsed": false
   }
  },
  {
   "cell_type": "code",
   "execution_count": null,
   "outputs": [],
   "source": [
    "index = df[(df['rating'] == 0)].index\n",
    "df.drop(index, inplace=True)\n",
    "df.reset_index(inplace=True, drop=True)"
   ],
   "metadata": {
    "collapsed": false
   }
  },
  {
   "cell_type": "markdown",
   "source": [
    "Targets DataFrames"
   ],
   "metadata": {
    "collapsed": false
   }
  },
  {
   "cell_type": "code",
   "execution_count": null,
   "outputs": [],
   "source": [
    "targets = df.pop('rating')\n",
    "targets = targets - 1\n",
    "# targets = tf.keras.utils.to_categorical(targets)"
   ],
   "metadata": {
    "collapsed": false
   }
  },
  {
   "cell_type": "markdown",
   "source": [
    "Features DataFrames"
   ],
   "metadata": {
    "collapsed": false
   }
  },
  {
   "cell_type": "code",
   "execution_count": null,
   "outputs": [],
   "source": [
    "features_names = ['review_text']\n",
    "features = df[features_names]\n",
    "tf.convert_to_tensor(features)"
   ],
   "metadata": {
    "collapsed": false
   }
  },
  {
   "cell_type": "code",
   "execution_count": null,
   "metadata": {},
   "outputs": [],
   "source": [
    "def custom_standardization(input_data):\n",
    "    lowercase = tf.strings.lower(input_data)\n",
    "    stripped_spoilers = tf.strings.regex_replace(lowercase, '\\*\\* spoiler alert \\*\\*', ' ')\n",
    "    return tf.strings.regex_replace(stripped_spoilers,\n",
    "                                    '[%s]' % re.escape(string.punctuation),\n",
    "                                    '')"
   ]
  },
  {
   "cell_type": "code",
   "execution_count": null,
   "outputs": [],
   "source": [
    "max_features = 5000  # Maximum vocab size.\n",
    "sequence_length = 100"
   ],
   "metadata": {
    "collapsed": false
   }
  },
  {
   "cell_type": "code",
   "execution_count": null,
   "outputs": [],
   "source": [
    "vectorized_layer = tf.keras.layers.TextVectorization(\n",
    "    standardize=custom_standardization,\n",
    "    max_tokens=max_features,\n",
    "    output_mode='int',\n",
    "    output_sequence_length=sequence_length)"
   ],
   "metadata": {
    "collapsed": false
   }
  },
  {
   "cell_type": "code",
   "execution_count": null,
   "outputs": [],
   "source": [
    "vectorized_layer.adapt(features)"
   ],
   "metadata": {
    "collapsed": false
   }
  },
  {
   "cell_type": "code",
   "execution_count": null,
   "outputs": [],
   "source": [
    "epochs = 20\n",
    "model_nb = 1\n",
    "\n",
    "embedding_dim = 50\n",
    "learning_rate = 0.0001\n",
    "batch_size = 20000\n",
    "dropout_rate = 0.0"
   ],
   "metadata": {
    "collapsed": false
   }
  },
  {
   "cell_type": "code",
   "execution_count": null,
   "outputs": [],
   "source": [
    "input_text = Input(shape=(1,), dtype=tf.string)\n",
    "\n",
    "vectorized_text = vectorized_layer(input_text)\n",
    "\n",
    "embedding_layer = Embedding(max_features + 1, embedding_dim, input_length=sequence_length)(vectorized_text)\n",
    "\n",
    "x = Conv1D(64, 3, activation = 'relu', padding = 'same')(embedding_layer)\n",
    "x = Conv1D(64, 3, activation = 'relu', padding = 'same')(x)\n",
    "x = MaxPooling1D(2)(x)\n",
    "\n",
    "x = Conv1D(128, 5, activation = 'relu', padding = 'same')(x)\n",
    "x = Conv1D(128, 5, activation = 'relu', padding = 'same')(x)\n",
    "x = MaxPooling1D(3)(x)\n",
    "\n",
    "x = Conv1D(256, 5, activation = 'relu', padding = 'same')(x)\n",
    "x = Conv1D(256, 5, activation = 'relu', padding = 'same')(x)\n",
    "x = MaxPooling1D(3)(x)\n",
    "\n",
    "x = Conv1D(512, 5, activation = 'relu', padding = 'same')(x)\n",
    "x = Conv1D(512, 5, activation = 'relu', padding = 'same')(x)\n",
    "x = MaxPooling1D(3)(x)\n",
    "\n",
    "global_max_pooling = GlobalMaxPooling1D()(x)\n",
    "\n",
    "dense = Dense(32, activation='relu')(global_max_pooling)\n",
    "\n",
    "output = Dense(5, activation='softmax')(dense)\n",
    "\n",
    "cnn_model = Model(input_text, output)\n",
    "\n",
    "cnn_model.summary()"
   ],
   "metadata": {
    "collapsed": false
   }
  },
  {
   "cell_type": "code",
   "execution_count": null,
   "outputs": [],
   "source": [
    "cnn_model.compile(loss=sparse_categorical_crossentropy,\n",
    "                  optimizer=Adam(learning_rate=learning_rate),\n",
    "                  metrics=sparse_categorical_accuracy)"
   ],
   "metadata": {
    "collapsed": false
   }
  },
  {
   "cell_type": "code",
   "execution_count": null,
   "outputs": [],
   "source": [
    "exp_name = f'cnn_model_{model_nb}_lr_{learning_rate}_bs_{batch_size}_dr_{dropout_rate}'"
   ],
   "metadata": {
    "collapsed": false
   }
  },
  {
   "cell_type": "code",
   "execution_count": null,
   "outputs": [],
   "source": [
    "cnn_model.fit(features,\n",
    "              targets,\n",
    "              validation_split=0.25,\n",
    "              batch_size=batch_size,\n",
    "              epochs=epochs,\n",
    "              callbacks=[tf.keras.callbacks.TensorBoard(\"logs/cnn/\" + exp_name)])"
   ],
   "metadata": {
    "collapsed": false
   }
  },
  {
   "cell_type": "code",
   "execution_count": null,
   "outputs": [],
   "source": [],
   "metadata": {
    "collapsed": false
   }
  }
 ],
 "metadata": {
  "kernelspec": {
   "display_name": "Python 3 (ipykernel)",
   "language": "python",
   "name": "python3"
  },
  "language_info": {
   "codemirror_mode": {
    "name": "ipython",
    "version": 3
   },
   "file_extension": ".py",
   "mimetype": "text/x-python",
   "name": "python",
   "nbconvert_exporter": "python",
   "pygments_lexer": "ipython3",
   "version": "3.10.8"
  }
 },
 "nbformat": 4,
 "nbformat_minor": 1
}
